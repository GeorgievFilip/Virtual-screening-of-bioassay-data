{
 "cells": [
  {
   "cell_type": "markdown",
   "metadata": {},
   "source": [
    "# Virtual screening of bioassay data"
   ]
  },
  {
   "cell_type": "markdown",
   "metadata": {},
   "source": [
    "Drug discovery is the first stage of the drug-development process and involves finding compounds to test and screen against biological targets. This first stage is known as primary-screening and usually involves the screening of thousands of compounds.\n",
    "\n",
    "The bioassay data is a collection of 21 bioassays (screens) that measure the activity of various compounds against different biological targets. This project is mostly based on the [original study](https://www.ncbi.nlm.nih.gov/pmc/articles/PMC2820499/) of the data.\n",
    "\n",
    "![Image of Yaktocat](https://i.imgur.com/2bKnxBf.jpg)"
   ]
  },
  {
   "cell_type": "code",
   "execution_count": 1,
   "metadata": {},
   "outputs": [],
   "source": [
    "import pandas as pd\n",
    "import numpy as np\n",
    "import itertools\n",
    "import os\n",
    "\n",
    "# Algorithms\n",
    "from sklearn.linear_model import LogisticRegression\n",
    "from sklearn.ensemble import RandomForestClassifier\n",
    "from sklearn.svm import SVC\n",
    "import xgboost as xgb\n",
    "from xgboost import XGBClassifier\n",
    "\n",
    "from sklearn.model_selection import train_test_split\n",
    "from sklearn.model_selection import GridSearchCV\n",
    "\n",
    "# Evaluation\n",
    "from sklearn.metrics import accuracy_score\n",
    "from sklearn.metrics import recall_score\n",
    "from sklearn.metrics import f1_score\n",
    "from sklearn.metrics import confusion_matrix\n",
    "\n",
    "pd.options.display.max_columns = None\n",
    "\n",
    "import warnings\n",
    "warnings.simplefilter(action = \"ignore\")"
   ]
  },
  {
   "cell_type": "markdown",
   "metadata": {},
   "source": [
    "### Loading and cleaning the data"
   ]
  },
  {
   "cell_type": "markdown",
   "metadata": {},
   "source": [
    "Each bioassay is split into test and train datasets. Since there are multiple datasets, we will load each to the variables \"train\" and \"test\" respectively."
   ]
  },
  {
   "cell_type": "code",
   "execution_count": 2,
   "metadata": {},
   "outputs": [],
   "source": [
    "def load_X(X_signals_paths):\n",
    "    X_signals = []\n",
    "    for signal_type_path in X_signals_paths:\n",
    "        file = pd.read_csv(signal_type_path)\n",
    "        X_signals.append(file)\n",
    "    return X_signals "
   ]
  },
  {
   "cell_type": "code",
   "execution_count": 3,
   "metadata": {},
   "outputs": [],
   "source": [
    "DATA_PATH_train = \"train/\"\n",
    "data_paths_train = os.listdir(DATA_PATH_train)\n",
    "datasets_train = [DATA_PATH_train + signal for signal in data_paths_train]\n",
    "train = load_X(datasets_train)\n",
    "\n",
    "DATA_PATH_test = \"test/\"\n",
    "data_paths_test = os.listdir(DATA_PATH_test)\n",
    "datasets_test = [DATA_PATH_test + signal for signal in data_paths_test]\n",
    "test = load_X(datasets_test)"
   ]
  },
  {
   "cell_type": "code",
   "execution_count": 4,
   "metadata": {},
   "outputs": [
    {
     "name": "stdout",
     "output_type": "stream",
     "text": [
      "There are 21 train files located at: train/\n",
      "\n",
      "Files in directory:\n",
      "AID1284Morered_train.csv\n",
      "AID1284red_train.csv\n",
      "AID1608Morered_train.csv\n",
      "AID1608red_train.csv\n",
      "AID362red_train.csv\n",
      "AID373AID439red_train.csv\n",
      "AID373red_train.csv\n",
      "AID439Morered_train.csv\n",
      "AID439red_train.csv\n",
      "AID456red_train.csv\n",
      "AID604AID644_AllRed_train.csv\n",
      "AID604red_train.csv\n",
      "AID644Morered_train.csv\n",
      "AID644red_train.csv\n",
      "AID687AID721red_train.csv\n",
      "AID687red_train.csv\n",
      "AID688red_train.csv\n",
      "AID721morered_train.csv\n",
      "AID721red_train.csv\n",
      "AID746AID1284red_train.csv\n",
      "AID746red_train.csv\n"
     ]
    }
   ],
   "source": [
    "print(\"There are {} train files located at: \".format(len(train)) + DATA_PATH_train + \"\\n\\n\" + \"Files in directory:\")\n",
    "for i in os.listdir(DATA_PATH_train):\n",
    "    print(i)"
   ]
  },
  {
   "cell_type": "code",
   "execution_count": 5,
   "metadata": {
    "scrolled": false
   },
   "outputs": [
    {
     "name": "stdout",
     "output_type": "stream",
     "text": [
      "There are 21 test files located at: test/\n",
      "\n",
      "Files in directory:\n",
      "AID1284Morered_test.csv\n",
      "AID1284red_test.csv\n",
      "AID1608Morered_test.csv\n",
      "AID1608red_test.csv\n",
      "AID362red_test.csv\n",
      "AID373AID439red_test.csv\n",
      "AID373red_test.csv\n",
      "AID439Morered_test.csv\n",
      "AID439red_test.csv\n",
      "AID456red_test.csv\n",
      "AID604AID644_AllRed_test.csv\n",
      "AID604red_test.csv\n",
      "AID644Morered_test.csv\n",
      "AID644red_test.csv\n",
      "AID687AID721red_test.csv\n",
      "AID687red_test.csv\n",
      "AID688red_test.csv\n",
      "AID721morered_test.csv\n",
      "AID721red_test.csv\n",
      "AID746AID1284red_test.csv\n",
      "AID746red_test.csv\n"
     ]
    }
   ],
   "source": [
    "print(\"There are {} test files located at: \".format(len(test)) + DATA_PATH_test + \"\\n\\n\" + \"Files in directory:\")\n",
    "for i in os.listdir(DATA_PATH_test):\n",
    "    print(i)"
   ]
  },
  {
   "cell_type": "markdown",
   "metadata": {},
   "source": [
    "Each dataset has a different number of columns (attributes) and compounds. All of them have an \"Outcome\" column which describes the activity of the compound. This column can have 3 unique values: active, inactive an inconclusive. For simplicity's sake, the inconclusive compounds will be marked as inactive in this project. \n",
    "\n",
    "Let's view the characteristics of each dataset by creating a table below."
   ]
  },
  {
   "cell_type": "code",
   "execution_count": 6,
   "metadata": {},
   "outputs": [],
   "source": [
    "# Combining train and test datasets\n",
    "data = []\n",
    "\n",
    "for i in range(len(train)):\n",
    "    data.append(pd.concat([train[i], test[i]]))"
   ]
  },
  {
   "cell_type": "code",
   "execution_count": 7,
   "metadata": {},
   "outputs": [],
   "source": [
    "column_names = [k[:-10] for k in data_paths_train]\n",
    "n_active,n_rows,n_columns  = [],[],[]\n",
    "\n",
    "for i in range(len(data)):\n",
    "    n_active.append((data[i]['Outcome'].value_counts()[1]/data[i].shape[0])*100)\n",
    "    n_rows.append(data[i].shape[0])\n",
    "    n_columns.append(data[i].shape[1]-1)\n",
    "    \n",
    "# Creating the table\n",
    "table_n_active = pd.DataFrame({\"Number of attributes\": n_columns, \n",
    "                               \"Compounds\": n_rows, \n",
    "                               \"% Active compounds\": n_active}, index = column_names)"
   ]
  },
  {
   "cell_type": "code",
   "execution_count": 8,
   "metadata": {},
   "outputs": [],
   "source": [
    "# Assay description\n",
    "Primary = ['AID362red',\n",
    "'AID604red',\n",
    "'AID456red',\n",
    "'AID688red',\n",
    "'AID373red',\n",
    "'AID746red',\n",
    "'AID687red']\n",
    "Primary_and_Confirmatory = ['AID746AID1284red',\n",
    "'AID604AID644_AllRed',\n",
    "'AID373AID439red',\n",
    "'AID687AID721red']\n",
    "Confirmatory = ['AID1608red',\n",
    "'AID644red',\n",
    "'AID1284red',\n",
    "'AID439Morered',\n",
    "'AID721morered',\n",
    "'AID1608Morered',\n",
    "'AID644Morered',\n",
    "'AID1284Morered',\n",
    "'AID439red',\n",
    "'AID721red']"
   ]
  },
  {
   "cell_type": "code",
   "execution_count": 9,
   "metadata": {},
   "outputs": [
    {
     "data": {
      "text/html": [
       "<div>\n",
       "<style scoped>\n",
       "    .dataframe tbody tr th:only-of-type {\n",
       "        vertical-align: middle;\n",
       "    }\n",
       "\n",
       "    .dataframe tbody tr th {\n",
       "        vertical-align: top;\n",
       "    }\n",
       "\n",
       "    .dataframe thead th {\n",
       "        text-align: right;\n",
       "    }\n",
       "</style>\n",
       "<table border=\"1\" class=\"dataframe\">\n",
       "  <thead>\n",
       "    <tr style=\"text-align: right;\">\n",
       "      <th></th>\n",
       "      <th></th>\n",
       "      <th>Number of attributes</th>\n",
       "      <th>Compounds</th>\n",
       "      <th>% Active compounds</th>\n",
       "    </tr>\n",
       "    <tr>\n",
       "      <th>Description</th>\n",
       "      <th>Bioassay</th>\n",
       "      <th></th>\n",
       "      <th></th>\n",
       "      <th></th>\n",
       "    </tr>\n",
       "  </thead>\n",
       "  <tbody>\n",
       "    <tr>\n",
       "      <th rowspan=\"7\" valign=\"top\">Primary</th>\n",
       "      <th>AID362red</th>\n",
       "      <td>144</td>\n",
       "      <td>4279</td>\n",
       "      <td>1.402197</td>\n",
       "    </tr>\n",
       "    <tr>\n",
       "      <th>AID604red</th>\n",
       "      <td>154</td>\n",
       "      <td>59788</td>\n",
       "      <td>0.354586</td>\n",
       "    </tr>\n",
       "    <tr>\n",
       "      <th>AID456red</th>\n",
       "      <td>153</td>\n",
       "      <td>9982</td>\n",
       "      <td>0.270487</td>\n",
       "    </tr>\n",
       "    <tr>\n",
       "      <th>AID688red</th>\n",
       "      <td>153</td>\n",
       "      <td>27189</td>\n",
       "      <td>0.912134</td>\n",
       "    </tr>\n",
       "    <tr>\n",
       "      <th>AID373red</th>\n",
       "      <td>155</td>\n",
       "      <td>59788</td>\n",
       "      <td>0.103700</td>\n",
       "    </tr>\n",
       "    <tr>\n",
       "      <th>AID746red</th>\n",
       "      <td>154</td>\n",
       "      <td>59788</td>\n",
       "      <td>0.612163</td>\n",
       "    </tr>\n",
       "    <tr>\n",
       "      <th>AID687red</th>\n",
       "      <td>153</td>\n",
       "      <td>33067</td>\n",
       "      <td>0.284271</td>\n",
       "    </tr>\n",
       "    <tr>\n",
       "      <th rowspan=\"4\" valign=\"top\">Primary and Confirmatory</th>\n",
       "      <th>AID746AID1284red</th>\n",
       "      <td>154</td>\n",
       "      <td>59784</td>\n",
       "      <td>0.095343</td>\n",
       "    </tr>\n",
       "    <tr>\n",
       "      <th>AID604AID644_AllRed</th>\n",
       "      <td>154</td>\n",
       "      <td>59782</td>\n",
       "      <td>0.112074</td>\n",
       "    </tr>\n",
       "    <tr>\n",
       "      <th>AID373AID439red</th>\n",
       "      <td>154</td>\n",
       "      <td>59795</td>\n",
       "      <td>0.021741</td>\n",
       "    </tr>\n",
       "    <tr>\n",
       "      <th>AID687AID721red</th>\n",
       "      <td>153</td>\n",
       "      <td>33067</td>\n",
       "      <td>0.063507</td>\n",
       "    </tr>\n",
       "    <tr>\n",
       "      <th rowspan=\"10\" valign=\"top\">Confirmatory</th>\n",
       "      <th>AID1608red</th>\n",
       "      <td>154</td>\n",
       "      <td>1033</td>\n",
       "      <td>6.582769</td>\n",
       "    </tr>\n",
       "    <tr>\n",
       "      <th>AID644red</th>\n",
       "      <td>100</td>\n",
       "      <td>206</td>\n",
       "      <td>32.524272</td>\n",
       "    </tr>\n",
       "    <tr>\n",
       "      <th>AID1284red</th>\n",
       "      <td>103</td>\n",
       "      <td>362</td>\n",
       "      <td>15.745856</td>\n",
       "    </tr>\n",
       "    <tr>\n",
       "      <th>AID439Morered</th>\n",
       "      <td>914</td>\n",
       "      <td>69</td>\n",
       "      <td>18.840580</td>\n",
       "    </tr>\n",
       "    <tr>\n",
       "      <th>AID721morered</th>\n",
       "      <td>914</td>\n",
       "      <td>94</td>\n",
       "      <td>22.340426</td>\n",
       "    </tr>\n",
       "    <tr>\n",
       "      <th>AID1608Morered</th>\n",
       "      <td>914</td>\n",
       "      <td>1033</td>\n",
       "      <td>6.582769</td>\n",
       "    </tr>\n",
       "    <tr>\n",
       "      <th>AID644Morered</th>\n",
       "      <td>914</td>\n",
       "      <td>206</td>\n",
       "      <td>32.524272</td>\n",
       "    </tr>\n",
       "    <tr>\n",
       "      <th>AID1284Morered</th>\n",
       "      <td>914</td>\n",
       "      <td>362</td>\n",
       "      <td>15.745856</td>\n",
       "    </tr>\n",
       "    <tr>\n",
       "      <th>AID439red</th>\n",
       "      <td>81</td>\n",
       "      <td>69</td>\n",
       "      <td>18.840580</td>\n",
       "    </tr>\n",
       "    <tr>\n",
       "      <th>AID721red</th>\n",
       "      <td>87</td>\n",
       "      <td>94</td>\n",
       "      <td>22.340426</td>\n",
       "    </tr>\n",
       "  </tbody>\n",
       "</table>\n",
       "</div>"
      ],
      "text/plain": [
       "                                              Number of attributes  Compounds  \\\n",
       "Description              Bioassay                                               \n",
       "Primary                  AID362red                             144       4279   \n",
       "                         AID604red                             154      59788   \n",
       "                         AID456red                             153       9982   \n",
       "                         AID688red                             153      27189   \n",
       "                         AID373red                             155      59788   \n",
       "                         AID746red                             154      59788   \n",
       "                         AID687red                             153      33067   \n",
       "Primary and Confirmatory AID746AID1284red                      154      59784   \n",
       "                         AID604AID644_AllRed                   154      59782   \n",
       "                         AID373AID439red                       154      59795   \n",
       "                         AID687AID721red                       153      33067   \n",
       "Confirmatory             AID1608red                            154       1033   \n",
       "                         AID644red                             100        206   \n",
       "                         AID1284red                            103        362   \n",
       "                         AID439Morered                         914         69   \n",
       "                         AID721morered                         914         94   \n",
       "                         AID1608Morered                        914       1033   \n",
       "                         AID644Morered                         914        206   \n",
       "                         AID1284Morered                        914        362   \n",
       "                         AID439red                              81         69   \n",
       "                         AID721red                              87         94   \n",
       "\n",
       "                                              % Active compounds  \n",
       "Description              Bioassay                                 \n",
       "Primary                  AID362red                      1.402197  \n",
       "                         AID604red                      0.354586  \n",
       "                         AID456red                      0.270487  \n",
       "                         AID688red                      0.912134  \n",
       "                         AID373red                      0.103700  \n",
       "                         AID746red                      0.612163  \n",
       "                         AID687red                      0.284271  \n",
       "Primary and Confirmatory AID746AID1284red               0.095343  \n",
       "                         AID604AID644_AllRed            0.112074  \n",
       "                         AID373AID439red                0.021741  \n",
       "                         AID687AID721red                0.063507  \n",
       "Confirmatory             AID1608red                     6.582769  \n",
       "                         AID644red                     32.524272  \n",
       "                         AID1284red                    15.745856  \n",
       "                         AID439Morered                 18.840580  \n",
       "                         AID721morered                 22.340426  \n",
       "                         AID1608Morered                 6.582769  \n",
       "                         AID644Morered                 32.524272  \n",
       "                         AID1284Morered                15.745856  \n",
       "                         AID439red                     18.840580  \n",
       "                         AID721red                     22.340426  "
      ]
     },
     "execution_count": 9,
     "metadata": {},
     "output_type": "execute_result"
    }
   ],
   "source": [
    "# Modifying the table\n",
    "Primary_table = table_n_active.loc[Primary,:]\n",
    "PrimCom_table = table_n_active.loc[Primary_and_Confirmatory,:]\n",
    "Com_table = table_n_active.loc[Confirmatory,:]\n",
    "\n",
    "Primary_table.index = pd.MultiIndex.from_tuples([('Primary', i) for i in Primary])\n",
    "PrimCom_table.index = pd.MultiIndex.from_tuples([('Primary and Confirmatory', i) for i in Primary_and_Confirmatory])\n",
    "Com_table.index = pd.MultiIndex.from_tuples([('Confirmatory', i) for i in Confirmatory])\n",
    "\n",
    "bioassays = pd.concat([Primary_table, PrimCom_table, Com_table])\n",
    "bioassays.index.names = ['Description', 'Bioassay']\n",
    "bioassays"
   ]
  },
  {
   "cell_type": "markdown",
   "metadata": {},
   "source": [
    "The table shows the description of the assays as well as the number of attrubutes, compounds and the percentage of active compounds. \n",
    "\n",
    "From above we notice that the data is unbalanced, with some cases where the active compounds are less than one percent. This means that standard machine learning techniques, which assume equality, are not very effective at building predictive models when there is a low minority class ratio."
   ]
  },
  {
   "cell_type": "code",
   "execution_count": 10,
   "metadata": {},
   "outputs": [],
   "source": [
    "# Renaming \"Inconclusive\" as \"Inactive\" and replacing the Active and Inactive values with 1's and 0's respectively\n",
    "\n",
    "mapping = {'Inactive': 0, 'Active': 1}\n",
    "for i in range(len(train)):\n",
    "    train[i]['Outcome'] = train[i]['Outcome'].replace(['Inconc', 'Inconclusive'], 'Inactive')\n",
    "    train[i]['Outcome'] = train[i]['Outcome'].map(mapping)\n",
    "for i in range(len(test)):\n",
    "    test[i]['Outcome'] = test[i]['Outcome'].replace(['Inconc', 'Inconclusive'], 'Inactive')\n",
    "    test[i]['Outcome'] = test[i]['Outcome'].map(mapping)"
   ]
  },
  {
   "cell_type": "markdown",
   "metadata": {},
   "source": [
    "### Creating models with regular sets"
   ]
  },
  {
   "cell_type": "code",
   "execution_count": 11,
   "metadata": {},
   "outputs": [],
   "source": [
    "# Train datasets\n",
    "x, y = [], []\n",
    "for i in range(len(train)):\n",
    "    x.append(train[i].drop(\"Outcome\", axis=1))\n",
    "    y.append(train[i][\"Outcome\"])"
   ]
  },
  {
   "cell_type": "code",
   "execution_count": 12,
   "metadata": {},
   "outputs": [],
   "source": [
    "# Test datasets\n",
    "X_t, y_t = [], []\n",
    "for i in range(len(test)):\n",
    "    X_t.append(test[i].drop(\"Outcome\", axis=1))\n",
    "    y_t.append(test[i][\"Outcome\"])"
   ]
  },
  {
   "cell_type": "code",
   "execution_count": 13,
   "metadata": {},
   "outputs": [],
   "source": [
    "# Algorithms\n",
    "models = []\n",
    "models.append(('LR', LogisticRegression(random_state=43, class_weight = 'balanced')))\n",
    "models.append(('SVC', SVC(random_state=43, class_weight = 'balanced')))\n",
    "models.append(('RFC', RandomForestClassifier(random_state=43, class_weight = 'balanced')))\n",
    "models.append(('XGB', XGBClassifier()))"
   ]
  },
  {
   "cell_type": "markdown",
   "metadata": {},
   "source": [
    "For evaluation of the models' performance we will use accuracy, recall and F1 scores:\n",
    "\n",
    "\n",
    "$$accuracy = \\frac{TP + TN}{TP + FN + TN + FP}$$,\n",
    "\n",
    "$$recall = \\frac{TP}{TP + FN}$$,\n",
    "\n",
    "$$F1 = \\frac{2 * precision * recall}{precision + recall}$$\n",
    "\n",
    "where $TP$ is the number of True Positives, $TN$ is the number of True Negatives, $FN$ is the number of False Negatives and $FP$ is the number of False Positives."
   ]
  },
  {
   "cell_type": "code",
   "execution_count": 14,
   "metadata": {},
   "outputs": [],
   "source": [
    "# Function that will create a single table for each bioassay showing the evaluation scores for every algorithm. \n",
    "# Each table is appended to a list (t1)\n",
    "def ml_testing(x,y,xt,yt,t1):\n",
    "    x_train, x_test, y_train, y_test = train_test_split(x, y, test_size=0.3, random_state=42)\n",
    "    pred_results = []\n",
    "    recall = []\n",
    "    f1 = []\n",
    "    names = []\n",
    "    for name, model in models:\n",
    "        # Creating models\n",
    "        fit_train = model.fit(x_train,y_train)\n",
    "        names.append(name)\n",
    "        table1 = pd.DataFrame(index=names)\n",
    "        # Testing models on the test data\n",
    "        y_result = model.predict(xt)\n",
    "        pred_results.append(accuracy_score(yt, y_result))\n",
    "        table1['Accuracy'] = pred_results\n",
    "        # Recall scores\n",
    "        recall.append(recall_score(yt, y_result, labels=[1, 0]))\n",
    "        table1['Recall'] = recall\n",
    "        # F1 scores\n",
    "        f1.append(f1_score(yt, y_result, labels=[1, 0]))\n",
    "        table1['F1'] = f1\n",
    "    t1.append(table1)"
   ]
  },
  {
   "cell_type": "code",
   "execution_count": 15,
   "metadata": {},
   "outputs": [],
   "source": [
    "# Running the function\n",
    "DF = []\n",
    "for i in range(len(test)):\n",
    "    ml_testing(x[i], y[i], X_t[i], y_t[i], DF)"
   ]
  },
  {
   "cell_type": "code",
   "execution_count": 16,
   "metadata": {},
   "outputs": [],
   "source": [
    "for i in range(len(column_names)):\n",
    "    DF[i].columns = pd.MultiIndex.from_tuples([(column_names[i],'Accuracy'),\n",
    "                                               (column_names[i],'Recall'),\n",
    "                                               (column_names[i],'F1')])"
   ]
  },
  {
   "cell_type": "code",
   "execution_count": 17,
   "metadata": {},
   "outputs": [],
   "source": [
    "# Concatenating the tables from DF\n",
    "DF=pd.concat(DF, axis=1)\n",
    "DF.columns.names = ['Bioassay','Evaluation metric']\n",
    "DF.index.names = ['Algorithm']"
   ]
  },
  {
   "cell_type": "markdown",
   "metadata": {},
   "source": [
    "#### Results"
   ]
  },
  {
   "cell_type": "markdown",
   "metadata": {},
   "source": [
    "Primary screening assays"
   ]
  },
  {
   "cell_type": "code",
   "execution_count": 18,
   "metadata": {},
   "outputs": [
    {
     "data": {
      "text/html": [
       "<div>\n",
       "<style scoped>\n",
       "    .dataframe tbody tr th:only-of-type {\n",
       "        vertical-align: middle;\n",
       "    }\n",
       "\n",
       "    .dataframe tbody tr th {\n",
       "        vertical-align: top;\n",
       "    }\n",
       "\n",
       "    .dataframe thead th {\n",
       "        text-align: right;\n",
       "    }\n",
       "</style>\n",
       "<table border=\"1\" class=\"dataframe\">\n",
       "  <thead>\n",
       "    <tr style=\"text-align: right;\">\n",
       "      <th></th>\n",
       "      <th>Algorithm</th>\n",
       "      <th>LR</th>\n",
       "      <th>SVC</th>\n",
       "      <th>RFC</th>\n",
       "      <th>XGB</th>\n",
       "    </tr>\n",
       "    <tr>\n",
       "      <th>Bioassay</th>\n",
       "      <th>Evaluation metric</th>\n",
       "      <th></th>\n",
       "      <th></th>\n",
       "      <th></th>\n",
       "      <th></th>\n",
       "    </tr>\n",
       "  </thead>\n",
       "  <tbody>\n",
       "    <tr>\n",
       "      <th rowspan=\"3\" valign=\"top\">AID362red</th>\n",
       "      <th>Accuracy</th>\n",
       "      <td>0.889019</td>\n",
       "      <td>0.968458</td>\n",
       "      <td>0.987150</td>\n",
       "      <td>0.985981</td>\n",
       "    </tr>\n",
       "    <tr>\n",
       "      <th>Recall</th>\n",
       "      <td>0.583333</td>\n",
       "      <td>0.250000</td>\n",
       "      <td>0.166667</td>\n",
       "      <td>0.000000</td>\n",
       "    </tr>\n",
       "    <tr>\n",
       "      <th>F1</th>\n",
       "      <td>0.128440</td>\n",
       "      <td>0.181818</td>\n",
       "      <td>0.266667</td>\n",
       "      <td>0.000000</td>\n",
       "    </tr>\n",
       "    <tr>\n",
       "      <th rowspan=\"3\" valign=\"top\">AID604red</th>\n",
       "      <th>Accuracy</th>\n",
       "      <td>0.768337</td>\n",
       "      <td>0.975245</td>\n",
       "      <td>0.996487</td>\n",
       "      <td>0.996487</td>\n",
       "    </tr>\n",
       "    <tr>\n",
       "      <th>Recall</th>\n",
       "      <td>0.666667</td>\n",
       "      <td>0.119048</td>\n",
       "      <td>0.000000</td>\n",
       "      <td>0.000000</td>\n",
       "    </tr>\n",
       "    <tr>\n",
       "      <th>F1</th>\n",
       "      <td>0.019816</td>\n",
       "      <td>0.032680</td>\n",
       "      <td>0.000000</td>\n",
       "      <td>0.000000</td>\n",
       "    </tr>\n",
       "    <tr>\n",
       "      <th rowspan=\"3\" valign=\"top\">AID456red</th>\n",
       "      <th>Accuracy</th>\n",
       "      <td>0.940882</td>\n",
       "      <td>0.991984</td>\n",
       "      <td>0.997495</td>\n",
       "      <td>0.997495</td>\n",
       "    </tr>\n",
       "    <tr>\n",
       "      <th>Recall</th>\n",
       "      <td>0.800000</td>\n",
       "      <td>0.000000</td>\n",
       "      <td>0.000000</td>\n",
       "      <td>0.000000</td>\n",
       "    </tr>\n",
       "    <tr>\n",
       "      <th>F1</th>\n",
       "      <td>0.063492</td>\n",
       "      <td>0.000000</td>\n",
       "      <td>0.000000</td>\n",
       "      <td>0.000000</td>\n",
       "    </tr>\n",
       "    <tr>\n",
       "      <th rowspan=\"3\" valign=\"top\">AID688red</th>\n",
       "      <th>Accuracy</th>\n",
       "      <td>0.684994</td>\n",
       "      <td>0.942810</td>\n",
       "      <td>0.990622</td>\n",
       "      <td>0.990805</td>\n",
       "    </tr>\n",
       "    <tr>\n",
       "      <th>Recall</th>\n",
       "      <td>0.280000</td>\n",
       "      <td>0.040000</td>\n",
       "      <td>0.000000</td>\n",
       "      <td>0.000000</td>\n",
       "    </tr>\n",
       "    <tr>\n",
       "      <th>F1</th>\n",
       "      <td>0.016083</td>\n",
       "      <td>0.012698</td>\n",
       "      <td>0.000000</td>\n",
       "      <td>0.000000</td>\n",
       "    </tr>\n",
       "    <tr>\n",
       "      <th rowspan=\"3\" valign=\"top\">AID373red</th>\n",
       "      <th>Accuracy</th>\n",
       "      <td>0.888350</td>\n",
       "      <td>0.996069</td>\n",
       "      <td>0.999080</td>\n",
       "      <td>0.998913</td>\n",
       "    </tr>\n",
       "    <tr>\n",
       "      <th>Recall</th>\n",
       "      <td>0.583333</td>\n",
       "      <td>0.000000</td>\n",
       "      <td>0.083333</td>\n",
       "      <td>0.000000</td>\n",
       "    </tr>\n",
       "    <tr>\n",
       "      <th>F1</th>\n",
       "      <td>0.010378</td>\n",
       "      <td>0.000000</td>\n",
       "      <td>0.153846</td>\n",
       "      <td>0.000000</td>\n",
       "    </tr>\n",
       "    <tr>\n",
       "      <th rowspan=\"3\" valign=\"top\">AID746red</th>\n",
       "      <th>Accuracy</th>\n",
       "      <td>0.723091</td>\n",
       "      <td>0.955173</td>\n",
       "      <td>0.994062</td>\n",
       "      <td>0.993978</td>\n",
       "    </tr>\n",
       "    <tr>\n",
       "      <th>Recall</th>\n",
       "      <td>0.684932</td>\n",
       "      <td>0.205479</td>\n",
       "      <td>0.027397</td>\n",
       "      <td>0.013699</td>\n",
       "    </tr>\n",
       "    <tr>\n",
       "      <th>F1</th>\n",
       "      <td>0.029317</td>\n",
       "      <td>0.053004</td>\n",
       "      <td>0.053333</td>\n",
       "      <td>0.027027</td>\n",
       "    </tr>\n",
       "    <tr>\n",
       "      <th rowspan=\"3\" valign=\"top\">AID687red</th>\n",
       "      <th>Accuracy</th>\n",
       "      <td>0.826403</td>\n",
       "      <td>0.988356</td>\n",
       "      <td>0.997278</td>\n",
       "      <td>0.997127</td>\n",
       "    </tr>\n",
       "    <tr>\n",
       "      <th>Recall</th>\n",
       "      <td>0.277778</td>\n",
       "      <td>0.000000</td>\n",
       "      <td>0.000000</td>\n",
       "      <td>0.000000</td>\n",
       "    </tr>\n",
       "    <tr>\n",
       "      <th>F1</th>\n",
       "      <td>0.008636</td>\n",
       "      <td>0.000000</td>\n",
       "      <td>0.000000</td>\n",
       "      <td>0.000000</td>\n",
       "    </tr>\n",
       "  </tbody>\n",
       "</table>\n",
       "</div>"
      ],
      "text/plain": [
       "Algorithm                          LR       SVC       RFC       XGB\n",
       "Bioassay  Evaluation metric                                        \n",
       "AID362red Accuracy           0.889019  0.968458  0.987150  0.985981\n",
       "          Recall             0.583333  0.250000  0.166667  0.000000\n",
       "          F1                 0.128440  0.181818  0.266667  0.000000\n",
       "AID604red Accuracy           0.768337  0.975245  0.996487  0.996487\n",
       "          Recall             0.666667  0.119048  0.000000  0.000000\n",
       "          F1                 0.019816  0.032680  0.000000  0.000000\n",
       "AID456red Accuracy           0.940882  0.991984  0.997495  0.997495\n",
       "          Recall             0.800000  0.000000  0.000000  0.000000\n",
       "          F1                 0.063492  0.000000  0.000000  0.000000\n",
       "AID688red Accuracy           0.684994  0.942810  0.990622  0.990805\n",
       "          Recall             0.280000  0.040000  0.000000  0.000000\n",
       "          F1                 0.016083  0.012698  0.000000  0.000000\n",
       "AID373red Accuracy           0.888350  0.996069  0.999080  0.998913\n",
       "          Recall             0.583333  0.000000  0.083333  0.000000\n",
       "          F1                 0.010378  0.000000  0.153846  0.000000\n",
       "AID746red Accuracy           0.723091  0.955173  0.994062  0.993978\n",
       "          Recall             0.684932  0.205479  0.027397  0.013699\n",
       "          F1                 0.029317  0.053004  0.053333  0.027027\n",
       "AID687red Accuracy           0.826403  0.988356  0.997278  0.997127\n",
       "          Recall             0.277778  0.000000  0.000000  0.000000\n",
       "          F1                 0.008636  0.000000  0.000000  0.000000"
      ]
     },
     "execution_count": 18,
     "metadata": {},
     "output_type": "execute_result"
    }
   ],
   "source": [
    "DF[Primary].T"
   ]
  },
  {
   "cell_type": "code",
   "execution_count": 20,
   "metadata": {},
   "outputs": [
    {
     "data": {
      "text/plain": [
       "<matplotlib.axes._subplots.AxesSubplot at 0x1d1ab40a358>"
      ]
     },
     "execution_count": 20,
     "metadata": {},
     "output_type": "execute_result"
    },
    {
     "data": {
      "image/png": "[encoded data removed]",
      "text/plain": [
       "<Figure size 1152x504 with 1 Axes>"
      ]
     },
     "metadata": {},
     "output_type": "display_data"
    }
   ],
   "source": [
    "# Barplot (accuracy is dropped)\n",
    "DF[Primary].drop('Accuracy', axis =1, level=1).T.unstack().plot(kind='bar', figsize = (16,7))"
   ]
  },
  {
   "cell_type": "markdown",
   "metadata": {},
   "source": [
    "Primary and Confirmatory screening assays"
   ]
  },
  {
   "cell_type": "code",
   "execution_count": 21,
   "metadata": {},
   "outputs": [
    {
     "data": {
      "text/html": [
       "<div>\n",
       "<style scoped>\n",
       "    .dataframe tbody tr th:only-of-type {\n",
       "        vertical-align: middle;\n",
       "    }\n",
       "\n",
       "    .dataframe tbody tr th {\n",
       "        vertical-align: top;\n",
       "    }\n",
       "\n",
       "    .dataframe thead th {\n",
       "        text-align: right;\n",
       "    }\n",
       "</style>\n",
       "<table border=\"1\" class=\"dataframe\">\n",
       "  <thead>\n",
       "    <tr style=\"text-align: right;\">\n",
       "      <th></th>\n",
       "      <th>Algorithm</th>\n",
       "      <th>LR</th>\n",
       "      <th>SVC</th>\n",
       "      <th>RFC</th>\n",
       "      <th>XGB</th>\n",
       "    </tr>\n",
       "    <tr>\n",
       "      <th>Bioassay</th>\n",
       "      <th>Evaluation metric</th>\n",
       "      <th></th>\n",
       "      <th></th>\n",
       "      <th></th>\n",
       "      <th></th>\n",
       "    </tr>\n",
       "  </thead>\n",
       "  <tbody>\n",
       "    <tr>\n",
       "      <th rowspan=\"3\" valign=\"top\">AID746AID1284red</th>\n",
       "      <th>Accuracy</th>\n",
       "      <td>0.885079</td>\n",
       "      <td>0.997742</td>\n",
       "      <td>0.999080</td>\n",
       "      <td>0.999080</td>\n",
       "    </tr>\n",
       "    <tr>\n",
       "      <th>Recall</th>\n",
       "      <td>0.727273</td>\n",
       "      <td>0.272727</td>\n",
       "      <td>0.090909</td>\n",
       "      <td>0.000000</td>\n",
       "    </tr>\n",
       "    <tr>\n",
       "      <th>F1</th>\n",
       "      <td>0.011511</td>\n",
       "      <td>0.181818</td>\n",
       "      <td>0.153846</td>\n",
       "      <td>0.000000</td>\n",
       "    </tr>\n",
       "    <tr>\n",
       "      <th rowspan=\"3\" valign=\"top\">AID604AID644_AllRed</th>\n",
       "      <th>Accuracy</th>\n",
       "      <td>0.872867</td>\n",
       "      <td>0.995316</td>\n",
       "      <td>0.998913</td>\n",
       "      <td>0.998913</td>\n",
       "    </tr>\n",
       "    <tr>\n",
       "      <th>Recall</th>\n",
       "      <td>0.692308</td>\n",
       "      <td>0.153846</td>\n",
       "      <td>0.000000</td>\n",
       "      <td>0.000000</td>\n",
       "    </tr>\n",
       "    <tr>\n",
       "      <th>F1</th>\n",
       "      <td>0.011704</td>\n",
       "      <td>0.066667</td>\n",
       "      <td>0.000000</td>\n",
       "      <td>0.000000</td>\n",
       "    </tr>\n",
       "    <tr>\n",
       "      <th rowspan=\"3\" valign=\"top\">AID373AID439red</th>\n",
       "      <th>Accuracy</th>\n",
       "      <td>0.994481</td>\n",
       "      <td>0.999331</td>\n",
       "      <td>0.999833</td>\n",
       "      <td>0.999833</td>\n",
       "    </tr>\n",
       "    <tr>\n",
       "      <th>Recall</th>\n",
       "      <td>0.000000</td>\n",
       "      <td>0.000000</td>\n",
       "      <td>0.000000</td>\n",
       "      <td>0.000000</td>\n",
       "    </tr>\n",
       "    <tr>\n",
       "      <th>F1</th>\n",
       "      <td>0.000000</td>\n",
       "      <td>0.000000</td>\n",
       "      <td>0.000000</td>\n",
       "      <td>0.000000</td>\n",
       "    </tr>\n",
       "    <tr>\n",
       "      <th rowspan=\"3\" valign=\"top\">AID687AID721red</th>\n",
       "      <th>Accuracy</th>\n",
       "      <td>0.902011</td>\n",
       "      <td>0.998034</td>\n",
       "      <td>0.999395</td>\n",
       "      <td>0.999395</td>\n",
       "    </tr>\n",
       "    <tr>\n",
       "      <th>Recall</th>\n",
       "      <td>0.000000</td>\n",
       "      <td>0.000000</td>\n",
       "      <td>0.000000</td>\n",
       "      <td>0.000000</td>\n",
       "    </tr>\n",
       "    <tr>\n",
       "      <th>F1</th>\n",
       "      <td>0.000000</td>\n",
       "      <td>0.000000</td>\n",
       "      <td>0.000000</td>\n",
       "      <td>0.000000</td>\n",
       "    </tr>\n",
       "  </tbody>\n",
       "</table>\n",
       "</div>"
      ],
      "text/plain": [
       "Algorithm                                    LR       SVC       RFC       XGB\n",
       "Bioassay            Evaluation metric                                        \n",
       "AID746AID1284red    Accuracy           0.885079  0.997742  0.999080  0.999080\n",
       "                    Recall             0.727273  0.272727  0.090909  0.000000\n",
       "                    F1                 0.011511  0.181818  0.153846  0.000000\n",
       "AID604AID644_AllRed Accuracy           0.872867  0.995316  0.998913  0.998913\n",
       "                    Recall             0.692308  0.153846  0.000000  0.000000\n",
       "                    F1                 0.011704  0.066667  0.000000  0.000000\n",
       "AID373AID439red     Accuracy           0.994481  0.999331  0.999833  0.999833\n",
       "                    Recall             0.000000  0.000000  0.000000  0.000000\n",
       "                    F1                 0.000000  0.000000  0.000000  0.000000\n",
       "AID687AID721red     Accuracy           0.902011  0.998034  0.999395  0.999395\n",
       "                    Recall             0.000000  0.000000  0.000000  0.000000\n",
       "                    F1                 0.000000  0.000000  0.000000  0.000000"
      ]
     },
     "execution_count": 21,
     "metadata": {},
     "output_type": "execute_result"
    }
   ],
   "source": [
    "DF[Primary_and_Confirmatory].T"
   ]
  },
  {
   "cell_type": "code",
   "execution_count": 22,
   "metadata": {},
   "outputs": [
    {
     "data": {
      "text/plain": [
       "<matplotlib.axes._subplots.AxesSubplot at 0x1d1ae9b9cf8>"
      ]
     },
     "execution_count": 22,
     "metadata": {},
     "output_type": "execute_result"
    },
    {
     "data": {
      "image/png": "[encoded data removed]",
      "text/plain": [
       "<Figure size 1152x504 with 1 Axes>"
      ]
     },
     "metadata": {},
     "output_type": "display_data"
    }
   ],
   "source": [
    "DF[Primary_and_Confirmatory].drop('Accuracy', axis =1, level=1).T.unstack().plot(kind='bar', figsize = (16,7))"
   ]
  },
  {
   "cell_type": "markdown",
   "metadata": {},
   "source": [
    "Confirmatory screening assays"
   ]
  },
  {
   "cell_type": "code",
   "execution_count": 23,
   "metadata": {},
   "outputs": [
    {
     "data": {
      "text/html": [
       "<div>\n",
       "<style scoped>\n",
       "    .dataframe tbody tr th:only-of-type {\n",
       "        vertical-align: middle;\n",
       "    }\n",
       "\n",
       "    .dataframe tbody tr th {\n",
       "        vertical-align: top;\n",
       "    }\n",
       "\n",
       "    .dataframe thead th {\n",
       "        text-align: right;\n",
       "    }\n",
       "</style>\n",
       "<table border=\"1\" class=\"dataframe\">\n",
       "  <thead>\n",
       "    <tr style=\"text-align: right;\">\n",
       "      <th></th>\n",
       "      <th>Algorithm</th>\n",
       "      <th>LR</th>\n",
       "      <th>SVC</th>\n",
       "      <th>RFC</th>\n",
       "      <th>XGB</th>\n",
       "    </tr>\n",
       "    <tr>\n",
       "      <th>Bioassay</th>\n",
       "      <th>Evaluation metric</th>\n",
       "      <th></th>\n",
       "      <th></th>\n",
       "      <th></th>\n",
       "      <th></th>\n",
       "    </tr>\n",
       "  </thead>\n",
       "  <tbody>\n",
       "    <tr>\n",
       "      <th rowspan=\"3\" valign=\"top\">AID1608red</th>\n",
       "      <th>Accuracy</th>\n",
       "      <td>0.825243</td>\n",
       "      <td>0.878641</td>\n",
       "      <td>0.936893</td>\n",
       "      <td>0.936893</td>\n",
       "    </tr>\n",
       "    <tr>\n",
       "      <th>Recall</th>\n",
       "      <td>0.230769</td>\n",
       "      <td>0.153846</td>\n",
       "      <td>0.000000</td>\n",
       "      <td>0.000000</td>\n",
       "    </tr>\n",
       "    <tr>\n",
       "      <th>F1</th>\n",
       "      <td>0.142857</td>\n",
       "      <td>0.137931</td>\n",
       "      <td>0.000000</td>\n",
       "      <td>0.000000</td>\n",
       "    </tr>\n",
       "    <tr>\n",
       "      <th rowspan=\"3\" valign=\"top\">AID644red</th>\n",
       "      <th>Accuracy</th>\n",
       "      <td>0.536585</td>\n",
       "      <td>0.609756</td>\n",
       "      <td>0.634146</td>\n",
       "      <td>0.634146</td>\n",
       "    </tr>\n",
       "    <tr>\n",
       "      <th>Recall</th>\n",
       "      <td>0.307692</td>\n",
       "      <td>0.230769</td>\n",
       "      <td>0.076923</td>\n",
       "      <td>0.076923</td>\n",
       "    </tr>\n",
       "    <tr>\n",
       "      <th>F1</th>\n",
       "      <td>0.296296</td>\n",
       "      <td>0.272727</td>\n",
       "      <td>0.117647</td>\n",
       "      <td>0.117647</td>\n",
       "    </tr>\n",
       "    <tr>\n",
       "      <th rowspan=\"3\" valign=\"top\">AID1284red</th>\n",
       "      <th>Accuracy</th>\n",
       "      <td>0.722222</td>\n",
       "      <td>0.777778</td>\n",
       "      <td>0.861111</td>\n",
       "      <td>0.833333</td>\n",
       "    </tr>\n",
       "    <tr>\n",
       "      <th>Recall</th>\n",
       "      <td>0.545455</td>\n",
       "      <td>0.454545</td>\n",
       "      <td>0.181818</td>\n",
       "      <td>0.181818</td>\n",
       "    </tr>\n",
       "    <tr>\n",
       "      <th>F1</th>\n",
       "      <td>0.375000</td>\n",
       "      <td>0.384615</td>\n",
       "      <td>0.285714</td>\n",
       "      <td>0.250000</td>\n",
       "    </tr>\n",
       "    <tr>\n",
       "      <th rowspan=\"3\" valign=\"top\">AID439Morered</th>\n",
       "      <th>Accuracy</th>\n",
       "      <td>0.692308</td>\n",
       "      <td>0.615385</td>\n",
       "      <td>0.769231</td>\n",
       "      <td>0.846154</td>\n",
       "    </tr>\n",
       "    <tr>\n",
       "      <th>Recall</th>\n",
       "      <td>0.500000</td>\n",
       "      <td>1.000000</td>\n",
       "      <td>0.000000</td>\n",
       "      <td>0.000000</td>\n",
       "    </tr>\n",
       "    <tr>\n",
       "      <th>F1</th>\n",
       "      <td>0.333333</td>\n",
       "      <td>0.444444</td>\n",
       "      <td>0.000000</td>\n",
       "      <td>0.000000</td>\n",
       "    </tr>\n",
       "    <tr>\n",
       "      <th rowspan=\"3\" valign=\"top\">AID721morered</th>\n",
       "      <th>Accuracy</th>\n",
       "      <td>0.722222</td>\n",
       "      <td>0.555556</td>\n",
       "      <td>0.722222</td>\n",
       "      <td>0.500000</td>\n",
       "    </tr>\n",
       "    <tr>\n",
       "      <th>Recall</th>\n",
       "      <td>0.250000</td>\n",
       "      <td>0.500000</td>\n",
       "      <td>0.000000</td>\n",
       "      <td>0.000000</td>\n",
       "    </tr>\n",
       "    <tr>\n",
       "      <th>F1</th>\n",
       "      <td>0.285714</td>\n",
       "      <td>0.333333</td>\n",
       "      <td>0.000000</td>\n",
       "      <td>0.000000</td>\n",
       "    </tr>\n",
       "    <tr>\n",
       "      <th rowspan=\"3\" valign=\"top\">AID1608Morered</th>\n",
       "      <th>Accuracy</th>\n",
       "      <td>0.893204</td>\n",
       "      <td>0.660194</td>\n",
       "      <td>0.932039</td>\n",
       "      <td>0.932039</td>\n",
       "    </tr>\n",
       "    <tr>\n",
       "      <th>Recall</th>\n",
       "      <td>0.307692</td>\n",
       "      <td>0.230769</td>\n",
       "      <td>0.076923</td>\n",
       "      <td>0.000000</td>\n",
       "    </tr>\n",
       "    <tr>\n",
       "      <th>F1</th>\n",
       "      <td>0.266667</td>\n",
       "      <td>0.078947</td>\n",
       "      <td>0.125000</td>\n",
       "      <td>0.000000</td>\n",
       "    </tr>\n",
       "    <tr>\n",
       "      <th rowspan=\"3\" valign=\"top\">AID644Morered</th>\n",
       "      <th>Accuracy</th>\n",
       "      <td>0.658537</td>\n",
       "      <td>0.609756</td>\n",
       "      <td>0.731707</td>\n",
       "      <td>0.658537</td>\n",
       "    </tr>\n",
       "    <tr>\n",
       "      <th>Recall</th>\n",
       "      <td>0.384615</td>\n",
       "      <td>0.461538</td>\n",
       "      <td>0.307692</td>\n",
       "      <td>0.153846</td>\n",
       "    </tr>\n",
       "    <tr>\n",
       "      <th>F1</th>\n",
       "      <td>0.416667</td>\n",
       "      <td>0.428571</td>\n",
       "      <td>0.421053</td>\n",
       "      <td>0.222222</td>\n",
       "    </tr>\n",
       "    <tr>\n",
       "      <th rowspan=\"3\" valign=\"top\">AID1284Morered</th>\n",
       "      <th>Accuracy</th>\n",
       "      <td>0.791667</td>\n",
       "      <td>0.652778</td>\n",
       "      <td>0.861111</td>\n",
       "      <td>0.847222</td>\n",
       "    </tr>\n",
       "    <tr>\n",
       "      <th>Recall</th>\n",
       "      <td>0.545455</td>\n",
       "      <td>0.454545</td>\n",
       "      <td>0.181818</td>\n",
       "      <td>0.272727</td>\n",
       "    </tr>\n",
       "    <tr>\n",
       "      <th>F1</th>\n",
       "      <td>0.444444</td>\n",
       "      <td>0.285714</td>\n",
       "      <td>0.285714</td>\n",
       "      <td>0.352941</td>\n",
       "    </tr>\n",
       "    <tr>\n",
       "      <th rowspan=\"3\" valign=\"top\">AID439red</th>\n",
       "      <th>Accuracy</th>\n",
       "      <td>0.692308</td>\n",
       "      <td>0.846154</td>\n",
       "      <td>0.846154</td>\n",
       "      <td>0.846154</td>\n",
       "    </tr>\n",
       "    <tr>\n",
       "      <th>Recall</th>\n",
       "      <td>0.500000</td>\n",
       "      <td>0.000000</td>\n",
       "      <td>0.000000</td>\n",
       "      <td>0.000000</td>\n",
       "    </tr>\n",
       "    <tr>\n",
       "      <th>F1</th>\n",
       "      <td>0.333333</td>\n",
       "      <td>0.000000</td>\n",
       "      <td>0.000000</td>\n",
       "      <td>0.000000</td>\n",
       "    </tr>\n",
       "    <tr>\n",
       "      <th rowspan=\"3\" valign=\"top\">AID721red</th>\n",
       "      <th>Accuracy</th>\n",
       "      <td>0.722222</td>\n",
       "      <td>0.722222</td>\n",
       "      <td>0.722222</td>\n",
       "      <td>0.500000</td>\n",
       "    </tr>\n",
       "    <tr>\n",
       "      <th>Recall</th>\n",
       "      <td>0.500000</td>\n",
       "      <td>0.000000</td>\n",
       "      <td>0.000000</td>\n",
       "      <td>0.000000</td>\n",
       "    </tr>\n",
       "    <tr>\n",
       "      <th>F1</th>\n",
       "      <td>0.444444</td>\n",
       "      <td>0.000000</td>\n",
       "      <td>0.000000</td>\n",
       "      <td>0.000000</td>\n",
       "    </tr>\n",
       "  </tbody>\n",
       "</table>\n",
       "</div>"
      ],
      "text/plain": [
       "Algorithm                               LR       SVC       RFC       XGB\n",
       "Bioassay       Evaluation metric                                        \n",
       "AID1608red     Accuracy           0.825243  0.878641  0.936893  0.936893\n",
       "               Recall             0.230769  0.153846  0.000000  0.000000\n",
       "               F1                 0.142857  0.137931  0.000000  0.000000\n",
       "AID644red      Accuracy           0.536585  0.609756  0.634146  0.634146\n",
       "               Recall             0.307692  0.230769  0.076923  0.076923\n",
       "               F1                 0.296296  0.272727  0.117647  0.117647\n",
       "AID1284red     Accuracy           0.722222  0.777778  0.861111  0.833333\n",
       "               Recall             0.545455  0.454545  0.181818  0.181818\n",
       "               F1                 0.375000  0.384615  0.285714  0.250000\n",
       "AID439Morered  Accuracy           0.692308  0.615385  0.769231  0.846154\n",
       "               Recall             0.500000  1.000000  0.000000  0.000000\n",
       "               F1                 0.333333  0.444444  0.000000  0.000000\n",
       "AID721morered  Accuracy           0.722222  0.555556  0.722222  0.500000\n",
       "               Recall             0.250000  0.500000  0.000000  0.000000\n",
       "               F1                 0.285714  0.333333  0.000000  0.000000\n",
       "AID1608Morered Accuracy           0.893204  0.660194  0.932039  0.932039\n",
       "               Recall             0.307692  0.230769  0.076923  0.000000\n",
       "               F1                 0.266667  0.078947  0.125000  0.000000\n",
       "AID644Morered  Accuracy           0.658537  0.609756  0.731707  0.658537\n",
       "               Recall             0.384615  0.461538  0.307692  0.153846\n",
       "               F1                 0.416667  0.428571  0.421053  0.222222\n",
       "AID1284Morered Accuracy           0.791667  0.652778  0.861111  0.847222\n",
       "               Recall             0.545455  0.454545  0.181818  0.272727\n",
       "               F1                 0.444444  0.285714  0.285714  0.352941\n",
       "AID439red      Accuracy           0.692308  0.846154  0.846154  0.846154\n",
       "               Recall             0.500000  0.000000  0.000000  0.000000\n",
       "               F1                 0.333333  0.000000  0.000000  0.000000\n",
       "AID721red      Accuracy           0.722222  0.722222  0.722222  0.500000\n",
       "               Recall             0.500000  0.000000  0.000000  0.000000\n",
       "               F1                 0.444444  0.000000  0.000000  0.000000"
      ]
     },
     "execution_count": 23,
     "metadata": {},
     "output_type": "execute_result"
    }
   ],
   "source": [
    "DF[Confirmatory].T"
   ]
  },
  {
   "cell_type": "code",
   "execution_count": 24,
   "metadata": {},
   "outputs": [
    {
     "data": {
      "text/plain": [
       "<matplotlib.axes._subplots.AxesSubplot at 0x1d1d3729320>"
      ]
     },
     "execution_count": 24,
     "metadata": {},
     "output_type": "execute_result"
    },
    {
     "data": {
      "image/png": "[encoded data removed]",
      "text/plain": [
       "<Figure size 1152x504 with 1 Axes>"
      ]
     },
     "metadata": {},
     "output_type": "display_data"
    }
   ],
   "source": [
    "DF[Confirmatory].drop('Accuracy', axis =1, level=1).T.unstack().plot(kind='bar', figsize = (16,7))"
   ]
  },
  {
   "cell_type": "markdown",
   "metadata": {},
   "source": [
    "A lot of the classifiers have relatively high accuracy scores, but accuracy applies a naive 0.50 threshold to decide between classes, and this is usually wrong when the classes are imbalanced. For instance, the classifier may assume that all outcomes are inactive and get a high accuracy score, but our goal here is to predict which compounds are active.\n",
    "\n",
    "We get a better understanding of the classifier's performance by reviewing its recall and F1 score.\n",
    "The bad results indicate that as expected, the quality of the data is poor and that maybe we should try alternative way to improve the models' performances."
   ]
  },
  {
   "cell_type": "markdown",
   "metadata": {},
   "source": [
    "### Creating models with undersampled data"
   ]
  },
  {
   "cell_type": "markdown",
   "metadata": {},
   "source": [
    "Undersampling randomly downsamples the majority class. Below, we will create a ratio of 1:1 between the active and inactive compounds by randomly removing portions of the inactive compounds. This may improve the performance of the classifiers."
   ]
  },
  {
   "cell_type": "code",
   "execution_count": 25,
   "metadata": {},
   "outputs": [],
   "source": [
    "active = []\n",
    "inactive = []\n",
    "# Number of active and inactive compounds\n",
    "for i in range(len(train)):\n",
    "    active.append(len(train[i][train[i]['Outcome'] == 1]))\n",
    "    inactive.append(train[i][train[i].Outcome == 0].index)"
   ]
  },
  {
   "cell_type": "code",
   "execution_count": 26,
   "metadata": {},
   "outputs": [],
   "source": [
    "# Random sample of inactive compounds\n",
    "random_indices = []\n",
    "for a, i in zip(active, inactive):\n",
    "    random_indices.append(np.random.choice(i, a, replace=False))"
   ]
  },
  {
   "cell_type": "code",
   "execution_count": 27,
   "metadata": {},
   "outputs": [],
   "source": [
    "# Finding the indices of active compounds\n",
    "active_indices = []\n",
    "for i in range(len(train)):\n",
    "    active_indices.append(train[i][train[i].Outcome == 1].index)"
   ]
  },
  {
   "cell_type": "code",
   "execution_count": 28,
   "metadata": {},
   "outputs": [],
   "source": [
    "# Concat active indices with inactive ones\n",
    "under_sample_indices = []\n",
    "for i in range(len(random_indices)):\n",
    "    under_sample_indices.append(np.concatenate([active_indices[i], random_indices[i]]))"
   ]
  },
  {
   "cell_type": "code",
   "execution_count": 29,
   "metadata": {},
   "outputs": [],
   "source": [
    "# Get Balance Dataframes (under_samples)\n",
    "under_samples = []\n",
    "for i in range(len(under_sample_indices)):\n",
    "    under_samples.append(train[i].iloc[under_sample_indices[i]])"
   ]
  },
  {
   "cell_type": "code",
   "execution_count": 30,
   "metadata": {},
   "outputs": [],
   "source": [
    "x, y = [], []\n",
    "for i in range(len(under_samples)):\n",
    "    x.append(under_samples[i].drop(\"Outcome\", axis=1))\n",
    "    y.append(under_samples[i][\"Outcome\"])"
   ]
  },
  {
   "cell_type": "code",
   "execution_count": 31,
   "metadata": {},
   "outputs": [],
   "source": [
    "# Running the function\n",
    "DF_undersampled = []\n",
    "for i in range(len(test)):\n",
    "    ml_testing(x[i],y[i],X_t[i],y_t[i], DF_undersampled)"
   ]
  },
  {
   "cell_type": "code",
   "execution_count": 32,
   "metadata": {},
   "outputs": [],
   "source": [
    "for i in range(len(column_names)):\n",
    "    DF_undersampled[i].columns = pd.MultiIndex.from_tuples([(column_names[i],'Accuracy'),\n",
    "                                                            (column_names[i],'Recall'),\n",
    "                                                            (column_names[i],'F1')])"
   ]
  },
  {
   "cell_type": "code",
   "execution_count": 33,
   "metadata": {},
   "outputs": [],
   "source": [
    "DF_undersampled=pd.concat(DF_undersampled, axis=1)\n",
    "DF_undersampled.columns.names = ['Bioassay','Evaluation metric']\n",
    "DF_undersampled.index.names = ['Algorithm']"
   ]
  },
  {
   "cell_type": "markdown",
   "metadata": {},
   "source": [
    "#### Results"
   ]
  },
  {
   "cell_type": "markdown",
   "metadata": {},
   "source": [
    "Primary screening assays"
   ]
  },
  {
   "cell_type": "code",
   "execution_count": 34,
   "metadata": {},
   "outputs": [
    {
     "data": {
      "text/html": [
       "<div>\n",
       "<style scoped>\n",
       "    .dataframe tbody tr th:only-of-type {\n",
       "        vertical-align: middle;\n",
       "    }\n",
       "\n",
       "    .dataframe tbody tr th {\n",
       "        vertical-align: top;\n",
       "    }\n",
       "\n",
       "    .dataframe thead th {\n",
       "        text-align: right;\n",
       "    }\n",
       "</style>\n",
       "<table border=\"1\" class=\"dataframe\">\n",
       "  <thead>\n",
       "    <tr style=\"text-align: right;\">\n",
       "      <th></th>\n",
       "      <th>Algorithm</th>\n",
       "      <th>LR</th>\n",
       "      <th>SVC</th>\n",
       "      <th>RFC</th>\n",
       "      <th>XGB</th>\n",
       "    </tr>\n",
       "    <tr>\n",
       "      <th>Bioassay</th>\n",
       "      <th>Evaluation metric</th>\n",
       "      <th></th>\n",
       "      <th></th>\n",
       "      <th></th>\n",
       "      <th></th>\n",
       "    </tr>\n",
       "  </thead>\n",
       "  <tbody>\n",
       "    <tr>\n",
       "      <th rowspan=\"3\" valign=\"top\">AID362red</th>\n",
       "      <th>Accuracy</th>\n",
       "      <td>0.565421</td>\n",
       "      <td>0.466121</td>\n",
       "      <td>0.655374</td>\n",
       "      <td>0.656542</td>\n",
       "    </tr>\n",
       "    <tr>\n",
       "      <th>Recall</th>\n",
       "      <td>0.833333</td>\n",
       "      <td>0.500000</td>\n",
       "      <td>0.750000</td>\n",
       "      <td>0.666667</td>\n",
       "    </tr>\n",
       "    <tr>\n",
       "      <th>F1</th>\n",
       "      <td>0.051020</td>\n",
       "      <td>0.025586</td>\n",
       "      <td>0.057508</td>\n",
       "      <td>0.051613</td>\n",
       "    </tr>\n",
       "    <tr>\n",
       "      <th rowspan=\"3\" valign=\"top\">AID604red</th>\n",
       "      <th>Accuracy</th>\n",
       "      <td>0.679769</td>\n",
       "      <td>0.637953</td>\n",
       "      <td>0.771682</td>\n",
       "      <td>0.700092</td>\n",
       "    </tr>\n",
       "    <tr>\n",
       "      <th>Recall</th>\n",
       "      <td>0.880952</td>\n",
       "      <td>0.690476</td>\n",
       "      <td>0.595238</td>\n",
       "      <td>0.761905</td>\n",
       "    </tr>\n",
       "    <tr>\n",
       "      <th>F1</th>\n",
       "      <td>0.018960</td>\n",
       "      <td>0.013221</td>\n",
       "      <td>0.017986</td>\n",
       "      <td>0.017534</td>\n",
       "    </tr>\n",
       "    <tr>\n",
       "      <th rowspan=\"3\" valign=\"top\">AID456red</th>\n",
       "      <th>Accuracy</th>\n",
       "      <td>0.527555</td>\n",
       "      <td>0.254008</td>\n",
       "      <td>0.587675</td>\n",
       "      <td>0.535571</td>\n",
       "    </tr>\n",
       "    <tr>\n",
       "      <th>Recall</th>\n",
       "      <td>0.800000</td>\n",
       "      <td>1.000000</td>\n",
       "      <td>0.400000</td>\n",
       "      <td>0.800000</td>\n",
       "    </tr>\n",
       "    <tr>\n",
       "      <th>F1</th>\n",
       "      <td>0.008412</td>\n",
       "      <td>0.006671</td>\n",
       "      <td>0.004837</td>\n",
       "      <td>0.008556</td>\n",
       "    </tr>\n",
       "    <tr>\n",
       "      <th rowspan=\"3\" valign=\"top\">AID688red</th>\n",
       "      <th>Accuracy</th>\n",
       "      <td>0.545973</td>\n",
       "      <td>0.499081</td>\n",
       "      <td>0.653365</td>\n",
       "      <td>0.559581</td>\n",
       "    </tr>\n",
       "    <tr>\n",
       "      <th>Recall</th>\n",
       "      <td>0.460000</td>\n",
       "      <td>0.560000</td>\n",
       "      <td>0.400000</td>\n",
       "      <td>0.480000</td>\n",
       "    </tr>\n",
       "    <tr>\n",
       "      <th>F1</th>\n",
       "      <td>0.018290</td>\n",
       "      <td>0.020144</td>\n",
       "      <td>0.020779</td>\n",
       "      <td>0.019648</td>\n",
       "    </tr>\n",
       "    <tr>\n",
       "      <th rowspan=\"3\" valign=\"top\">AID373red</th>\n",
       "      <th>Accuracy</th>\n",
       "      <td>0.764071</td>\n",
       "      <td>0.616208</td>\n",
       "      <td>0.885506</td>\n",
       "      <td>0.814836</td>\n",
       "    </tr>\n",
       "    <tr>\n",
       "      <th>Recall</th>\n",
       "      <td>0.916667</td>\n",
       "      <td>0.583333</td>\n",
       "      <td>0.500000</td>\n",
       "      <td>0.833333</td>\n",
       "    </tr>\n",
       "    <tr>\n",
       "      <th>F1</th>\n",
       "      <td>0.007738</td>\n",
       "      <td>0.003041</td>\n",
       "      <td>0.008689</td>\n",
       "      <td>0.008953</td>\n",
       "    </tr>\n",
       "    <tr>\n",
       "      <th rowspan=\"3\" valign=\"top\">AID746red</th>\n",
       "      <th>Accuracy</th>\n",
       "      <td>0.640796</td>\n",
       "      <td>0.521285</td>\n",
       "      <td>0.805971</td>\n",
       "      <td>0.733796</td>\n",
       "    </tr>\n",
       "    <tr>\n",
       "      <th>Recall</th>\n",
       "      <td>0.780822</td>\n",
       "      <td>0.602740</td>\n",
       "      <td>0.712329</td>\n",
       "      <td>0.739726</td>\n",
       "    </tr>\n",
       "    <tr>\n",
       "      <th>F1</th>\n",
       "      <td>0.025856</td>\n",
       "      <td>0.015141</td>\n",
       "      <td>0.042904</td>\n",
       "      <td>0.032817</td>\n",
       "    </tr>\n",
       "    <tr>\n",
       "      <th rowspan=\"3\" valign=\"top\">AID687red</th>\n",
       "      <th>Accuracy</th>\n",
       "      <td>0.623771</td>\n",
       "      <td>0.669137</td>\n",
       "      <td>0.758204</td>\n",
       "      <td>0.628610</td>\n",
       "    </tr>\n",
       "    <tr>\n",
       "      <th>Recall</th>\n",
       "      <td>0.444444</td>\n",
       "      <td>0.388889</td>\n",
       "      <td>0.277778</td>\n",
       "      <td>0.444444</td>\n",
       "    </tr>\n",
       "    <tr>\n",
       "      <th>F1</th>\n",
       "      <td>0.006390</td>\n",
       "      <td>0.006358</td>\n",
       "      <td>0.006215</td>\n",
       "      <td>0.006472</td>\n",
       "    </tr>\n",
       "  </tbody>\n",
       "</table>\n",
       "</div>"
      ],
      "text/plain": [
       "Algorithm                          LR       SVC       RFC       XGB\n",
       "Bioassay  Evaluation metric                                        \n",
       "AID362red Accuracy           0.565421  0.466121  0.655374  0.656542\n",
       "          Recall             0.833333  0.500000  0.750000  0.666667\n",
       "          F1                 0.051020  0.025586  0.057508  0.051613\n",
       "AID604red Accuracy           0.679769  0.637953  0.771682  0.700092\n",
       "          Recall             0.880952  0.690476  0.595238  0.761905\n",
       "          F1                 0.018960  0.013221  0.017986  0.017534\n",
       "AID456red Accuracy           0.527555  0.254008  0.587675  0.535571\n",
       "          Recall             0.800000  1.000000  0.400000  0.800000\n",
       "          F1                 0.008412  0.006671  0.004837  0.008556\n",
       "AID688red Accuracy           0.545973  0.499081  0.653365  0.559581\n",
       "          Recall             0.460000  0.560000  0.400000  0.480000\n",
       "          F1                 0.018290  0.020144  0.020779  0.019648\n",
       "AID373red Accuracy           0.764071  0.616208  0.885506  0.814836\n",
       "          Recall             0.916667  0.583333  0.500000  0.833333\n",
       "          F1                 0.007738  0.003041  0.008689  0.008953\n",
       "AID746red Accuracy           0.640796  0.521285  0.805971  0.733796\n",
       "          Recall             0.780822  0.602740  0.712329  0.739726\n",
       "          F1                 0.025856  0.015141  0.042904  0.032817\n",
       "AID687red Accuracy           0.623771  0.669137  0.758204  0.628610\n",
       "          Recall             0.444444  0.388889  0.277778  0.444444\n",
       "          F1                 0.006390  0.006358  0.006215  0.006472"
      ]
     },
     "execution_count": 34,
     "metadata": {},
     "output_type": "execute_result"
    }
   ],
   "source": [
    "DF_undersampled[Primary].T"
   ]
  },
  {
   "cell_type": "code",
   "execution_count": 35,
   "metadata": {},
   "outputs": [
    {
     "data": {
      "text/plain": [
       "<matplotlib.axes._subplots.AxesSubplot at 0x1d1e40d8fd0>"
      ]
     },
     "execution_count": 35,
     "metadata": {},
     "output_type": "execute_result"
    },
    {
     "data": {
      "image/png": "[encoded data removed]",
      "text/plain": [
       "<Figure size 1152x504 with 1 Axes>"
      ]
     },
     "metadata": {},
     "output_type": "display_data"
    }
   ],
   "source": [
    "DF_undersampled[Primary].drop('Accuracy', axis =1, level=1).T.unstack().plot(kind='bar', figsize = (16,7))"
   ]
  },
  {
   "cell_type": "markdown",
   "metadata": {},
   "source": [
    "Primary and confirmatory screening assays"
   ]
  },
  {
   "cell_type": "code",
   "execution_count": 36,
   "metadata": {},
   "outputs": [
    {
     "data": {
      "text/html": [
       "<div>\n",
       "<style scoped>\n",
       "    .dataframe tbody tr th:only-of-type {\n",
       "        vertical-align: middle;\n",
       "    }\n",
       "\n",
       "    .dataframe tbody tr th {\n",
       "        vertical-align: top;\n",
       "    }\n",
       "\n",
       "    .dataframe thead th {\n",
       "        text-align: right;\n",
       "    }\n",
       "</style>\n",
       "<table border=\"1\" class=\"dataframe\">\n",
       "  <thead>\n",
       "    <tr style=\"text-align: right;\">\n",
       "      <th></th>\n",
       "      <th>Algorithm</th>\n",
       "      <th>LR</th>\n",
       "      <th>SVC</th>\n",
       "      <th>RFC</th>\n",
       "      <th>XGB</th>\n",
       "    </tr>\n",
       "    <tr>\n",
       "      <th>Bioassay</th>\n",
       "      <th>Evaluation metric</th>\n",
       "      <th></th>\n",
       "      <th></th>\n",
       "      <th></th>\n",
       "      <th></th>\n",
       "    </tr>\n",
       "  </thead>\n",
       "  <tbody>\n",
       "    <tr>\n",
       "      <th rowspan=\"3\" valign=\"top\">AID746AID1284red</th>\n",
       "      <th>Accuracy</th>\n",
       "      <td>0.673218</td>\n",
       "      <td>0.622533</td>\n",
       "      <td>0.684092</td>\n",
       "      <td>0.664771</td>\n",
       "    </tr>\n",
       "    <tr>\n",
       "      <th>Recall</th>\n",
       "      <td>0.818182</td>\n",
       "      <td>0.636364</td>\n",
       "      <td>0.727273</td>\n",
       "      <td>0.909091</td>\n",
       "    </tr>\n",
       "    <tr>\n",
       "      <th>F1</th>\n",
       "      <td>0.004586</td>\n",
       "      <td>0.003093</td>\n",
       "      <td>0.004218</td>\n",
       "      <td>0.004965</td>\n",
       "    </tr>\n",
       "    <tr>\n",
       "      <th rowspan=\"3\" valign=\"top\">AID604AID644_AllRed</th>\n",
       "      <th>Accuracy</th>\n",
       "      <td>0.733941</td>\n",
       "      <td>0.635162</td>\n",
       "      <td>0.790565</td>\n",
       "      <td>0.703914</td>\n",
       "    </tr>\n",
       "    <tr>\n",
       "      <th>Recall</th>\n",
       "      <td>0.923077</td>\n",
       "      <td>0.538462</td>\n",
       "      <td>0.692308</td>\n",
       "      <td>0.692308</td>\n",
       "    </tr>\n",
       "    <tr>\n",
       "      <th>F1</th>\n",
       "      <td>0.007488</td>\n",
       "      <td>0.003199</td>\n",
       "      <td>0.007137</td>\n",
       "      <td>0.005059</td>\n",
       "    </tr>\n",
       "    <tr>\n",
       "      <th rowspan=\"3\" valign=\"top\">AID373AID439red</th>\n",
       "      <th>Accuracy</th>\n",
       "      <td>0.764278</td>\n",
       "      <td>0.752655</td>\n",
       "      <td>0.651559</td>\n",
       "      <td>0.628564</td>\n",
       "    </tr>\n",
       "    <tr>\n",
       "      <th>Recall</th>\n",
       "      <td>0.500000</td>\n",
       "      <td>1.000000</td>\n",
       "      <td>1.000000</td>\n",
       "      <td>1.000000</td>\n",
       "    </tr>\n",
       "    <tr>\n",
       "      <th>F1</th>\n",
       "      <td>0.000709</td>\n",
       "      <td>0.001350</td>\n",
       "      <td>0.000959</td>\n",
       "      <td>0.000900</td>\n",
       "    </tr>\n",
       "    <tr>\n",
       "      <th rowspan=\"3\" valign=\"top\">AID687AID721red</th>\n",
       "      <th>Accuracy</th>\n",
       "      <td>0.593074</td>\n",
       "      <td>0.251172</td>\n",
       "      <td>0.414638</td>\n",
       "      <td>0.407984</td>\n",
       "    </tr>\n",
       "    <tr>\n",
       "      <th>Recall</th>\n",
       "      <td>0.750000</td>\n",
       "      <td>0.750000</td>\n",
       "      <td>0.750000</td>\n",
       "      <td>0.750000</td>\n",
       "    </tr>\n",
       "    <tr>\n",
       "      <th>F1</th>\n",
       "      <td>0.002225</td>\n",
       "      <td>0.001210</td>\n",
       "      <td>0.001548</td>\n",
       "      <td>0.001530</td>\n",
       "    </tr>\n",
       "  </tbody>\n",
       "</table>\n",
       "</div>"
      ],
      "text/plain": [
       "Algorithm                                    LR       SVC       RFC       XGB\n",
       "Bioassay            Evaluation metric                                        \n",
       "AID746AID1284red    Accuracy           0.673218  0.622533  0.684092  0.664771\n",
       "                    Recall             0.818182  0.636364  0.727273  0.909091\n",
       "                    F1                 0.004586  0.003093  0.004218  0.004965\n",
       "AID604AID644_AllRed Accuracy           0.733941  0.635162  0.790565  0.703914\n",
       "                    Recall             0.923077  0.538462  0.692308  0.692308\n",
       "                    F1                 0.007488  0.003199  0.007137  0.005059\n",
       "AID373AID439red     Accuracy           0.764278  0.752655  0.651559  0.628564\n",
       "                    Recall             0.500000  1.000000  1.000000  1.000000\n",
       "                    F1                 0.000709  0.001350  0.000959  0.000900\n",
       "AID687AID721red     Accuracy           0.593074  0.251172  0.414638  0.407984\n",
       "                    Recall             0.750000  0.750000  0.750000  0.750000\n",
       "                    F1                 0.002225  0.001210  0.001548  0.001530"
      ]
     },
     "execution_count": 36,
     "metadata": {},
     "output_type": "execute_result"
    }
   ],
   "source": [
    "DF_undersampled[Primary_and_Confirmatory].T"
   ]
  },
  {
   "cell_type": "code",
   "execution_count": 37,
   "metadata": {},
   "outputs": [
    {
     "data": {
      "text/plain": [
       "<matplotlib.axes._subplots.AxesSubplot at 0x1d1824d6be0>"
      ]
     },
     "execution_count": 37,
     "metadata": {},
     "output_type": "execute_result"
    },
    {
     "data": {
      "image/png": "[encoded data removed]",
      "text/plain": [
       "<Figure size 1152x504 with 1 Axes>"
      ]
     },
     "metadata": {},
     "output_type": "display_data"
    }
   ],
   "source": [
    "DF_undersampled[Primary_and_Confirmatory].drop('Accuracy', axis =1, level=1).T.unstack().plot(kind='bar', figsize = (16,7))"
   ]
  },
  {
   "cell_type": "markdown",
   "metadata": {},
   "source": [
    "Confirmatory screening assays"
   ]
  },
  {
   "cell_type": "code",
   "execution_count": 38,
   "metadata": {},
   "outputs": [
    {
     "data": {
      "text/html": [
       "<div>\n",
       "<style scoped>\n",
       "    .dataframe tbody tr th:only-of-type {\n",
       "        vertical-align: middle;\n",
       "    }\n",
       "\n",
       "    .dataframe tbody tr th {\n",
       "        vertical-align: top;\n",
       "    }\n",
       "\n",
       "    .dataframe thead th {\n",
       "        text-align: right;\n",
       "    }\n",
       "</style>\n",
       "<table border=\"1\" class=\"dataframe\">\n",
       "  <thead>\n",
       "    <tr style=\"text-align: right;\">\n",
       "      <th></th>\n",
       "      <th>Algorithm</th>\n",
       "      <th>LR</th>\n",
       "      <th>SVC</th>\n",
       "      <th>RFC</th>\n",
       "      <th>XGB</th>\n",
       "    </tr>\n",
       "    <tr>\n",
       "      <th>Bioassay</th>\n",
       "      <th>Evaluation metric</th>\n",
       "      <th></th>\n",
       "      <th></th>\n",
       "      <th></th>\n",
       "      <th></th>\n",
       "    </tr>\n",
       "  </thead>\n",
       "  <tbody>\n",
       "    <tr>\n",
       "      <th rowspan=\"3\" valign=\"top\">AID1608red</th>\n",
       "      <th>Accuracy</th>\n",
       "      <td>0.572816</td>\n",
       "      <td>0.616505</td>\n",
       "      <td>0.723301</td>\n",
       "      <td>0.592233</td>\n",
       "    </tr>\n",
       "    <tr>\n",
       "      <th>Recall</th>\n",
       "      <td>0.307692</td>\n",
       "      <td>0.307692</td>\n",
       "      <td>0.461538</td>\n",
       "      <td>0.384615</td>\n",
       "    </tr>\n",
       "    <tr>\n",
       "      <th>F1</th>\n",
       "      <td>0.083333</td>\n",
       "      <td>0.091954</td>\n",
       "      <td>0.173913</td>\n",
       "      <td>0.106383</td>\n",
       "    </tr>\n",
       "    <tr>\n",
       "      <th rowspan=\"3\" valign=\"top\">AID644red</th>\n",
       "      <th>Accuracy</th>\n",
       "      <td>0.536585</td>\n",
       "      <td>0.487805</td>\n",
       "      <td>0.560976</td>\n",
       "      <td>0.560976</td>\n",
       "    </tr>\n",
       "    <tr>\n",
       "      <th>Recall</th>\n",
       "      <td>0.307692</td>\n",
       "      <td>0.384615</td>\n",
       "      <td>0.153846</td>\n",
       "      <td>0.384615</td>\n",
       "    </tr>\n",
       "    <tr>\n",
       "      <th>F1</th>\n",
       "      <td>0.296296</td>\n",
       "      <td>0.322581</td>\n",
       "      <td>0.181818</td>\n",
       "      <td>0.357143</td>\n",
       "    </tr>\n",
       "    <tr>\n",
       "      <th rowspan=\"3\" valign=\"top\">AID1284red</th>\n",
       "      <th>Accuracy</th>\n",
       "      <td>0.736111</td>\n",
       "      <td>0.583333</td>\n",
       "      <td>0.625000</td>\n",
       "      <td>0.611111</td>\n",
       "    </tr>\n",
       "    <tr>\n",
       "      <th>Recall</th>\n",
       "      <td>0.818182</td>\n",
       "      <td>0.545455</td>\n",
       "      <td>0.454545</td>\n",
       "      <td>0.909091</td>\n",
       "    </tr>\n",
       "    <tr>\n",
       "      <th>F1</th>\n",
       "      <td>0.486486</td>\n",
       "      <td>0.285714</td>\n",
       "      <td>0.270270</td>\n",
       "      <td>0.416667</td>\n",
       "    </tr>\n",
       "    <tr>\n",
       "      <th rowspan=\"3\" valign=\"top\">AID439Morered</th>\n",
       "      <th>Accuracy</th>\n",
       "      <td>0.769231</td>\n",
       "      <td>0.692308</td>\n",
       "      <td>0.615385</td>\n",
       "      <td>0.615385</td>\n",
       "    </tr>\n",
       "    <tr>\n",
       "      <th>Recall</th>\n",
       "      <td>0.500000</td>\n",
       "      <td>1.000000</td>\n",
       "      <td>0.500000</td>\n",
       "      <td>1.000000</td>\n",
       "    </tr>\n",
       "    <tr>\n",
       "      <th>F1</th>\n",
       "      <td>0.400000</td>\n",
       "      <td>0.500000</td>\n",
       "      <td>0.285714</td>\n",
       "      <td>0.444444</td>\n",
       "    </tr>\n",
       "    <tr>\n",
       "      <th rowspan=\"3\" valign=\"top\">AID721morered</th>\n",
       "      <th>Accuracy</th>\n",
       "      <td>0.444444</td>\n",
       "      <td>0.388889</td>\n",
       "      <td>0.277778</td>\n",
       "      <td>0.444444</td>\n",
       "    </tr>\n",
       "    <tr>\n",
       "      <th>Recall</th>\n",
       "      <td>0.750000</td>\n",
       "      <td>0.500000</td>\n",
       "      <td>0.000000</td>\n",
       "      <td>0.750000</td>\n",
       "    </tr>\n",
       "    <tr>\n",
       "      <th>F1</th>\n",
       "      <td>0.375000</td>\n",
       "      <td>0.266667</td>\n",
       "      <td>0.000000</td>\n",
       "      <td>0.375000</td>\n",
       "    </tr>\n",
       "    <tr>\n",
       "      <th rowspan=\"3\" valign=\"top\">AID1608Morered</th>\n",
       "      <th>Accuracy</th>\n",
       "      <td>0.669903</td>\n",
       "      <td>0.674757</td>\n",
       "      <td>0.742718</td>\n",
       "      <td>0.563107</td>\n",
       "    </tr>\n",
       "    <tr>\n",
       "      <th>Recall</th>\n",
       "      <td>0.461538</td>\n",
       "      <td>0.307692</td>\n",
       "      <td>0.230769</td>\n",
       "      <td>0.538462</td>\n",
       "    </tr>\n",
       "    <tr>\n",
       "      <th>F1</th>\n",
       "      <td>0.150000</td>\n",
       "      <td>0.106667</td>\n",
       "      <td>0.101695</td>\n",
       "      <td>0.134615</td>\n",
       "    </tr>\n",
       "    <tr>\n",
       "      <th rowspan=\"3\" valign=\"top\">AID644Morered</th>\n",
       "      <th>Accuracy</th>\n",
       "      <td>0.609756</td>\n",
       "      <td>0.512195</td>\n",
       "      <td>0.853659</td>\n",
       "      <td>0.609756</td>\n",
       "    </tr>\n",
       "    <tr>\n",
       "      <th>Recall</th>\n",
       "      <td>0.538462</td>\n",
       "      <td>0.615385</td>\n",
       "      <td>0.769231</td>\n",
       "      <td>0.461538</td>\n",
       "    </tr>\n",
       "    <tr>\n",
       "      <th>F1</th>\n",
       "      <td>0.466667</td>\n",
       "      <td>0.444444</td>\n",
       "      <td>0.769231</td>\n",
       "      <td>0.428571</td>\n",
       "    </tr>\n",
       "    <tr>\n",
       "      <th rowspan=\"3\" valign=\"top\">AID1284Morered</th>\n",
       "      <th>Accuracy</th>\n",
       "      <td>0.583333</td>\n",
       "      <td>0.569444</td>\n",
       "      <td>0.652778</td>\n",
       "      <td>0.555556</td>\n",
       "    </tr>\n",
       "    <tr>\n",
       "      <th>Recall</th>\n",
       "      <td>0.727273</td>\n",
       "      <td>0.636364</td>\n",
       "      <td>0.818182</td>\n",
       "      <td>0.818182</td>\n",
       "    </tr>\n",
       "    <tr>\n",
       "      <th>F1</th>\n",
       "      <td>0.347826</td>\n",
       "      <td>0.311111</td>\n",
       "      <td>0.418605</td>\n",
       "      <td>0.360000</td>\n",
       "    </tr>\n",
       "    <tr>\n",
       "      <th rowspan=\"3\" valign=\"top\">AID439red</th>\n",
       "      <th>Accuracy</th>\n",
       "      <td>0.923077</td>\n",
       "      <td>0.769231</td>\n",
       "      <td>0.769231</td>\n",
       "      <td>0.538462</td>\n",
       "    </tr>\n",
       "    <tr>\n",
       "      <th>Recall</th>\n",
       "      <td>1.000000</td>\n",
       "      <td>0.500000</td>\n",
       "      <td>0.500000</td>\n",
       "      <td>0.500000</td>\n",
       "    </tr>\n",
       "    <tr>\n",
       "      <th>F1</th>\n",
       "      <td>0.800000</td>\n",
       "      <td>0.400000</td>\n",
       "      <td>0.400000</td>\n",
       "      <td>0.250000</td>\n",
       "    </tr>\n",
       "    <tr>\n",
       "      <th rowspan=\"3\" valign=\"top\">AID721red</th>\n",
       "      <th>Accuracy</th>\n",
       "      <td>0.555556</td>\n",
       "      <td>0.388889</td>\n",
       "      <td>0.444444</td>\n",
       "      <td>0.388889</td>\n",
       "    </tr>\n",
       "    <tr>\n",
       "      <th>Recall</th>\n",
       "      <td>0.500000</td>\n",
       "      <td>1.000000</td>\n",
       "      <td>0.250000</td>\n",
       "      <td>0.250000</td>\n",
       "    </tr>\n",
       "    <tr>\n",
       "      <th>F1</th>\n",
       "      <td>0.333333</td>\n",
       "      <td>0.421053</td>\n",
       "      <td>0.166667</td>\n",
       "      <td>0.153846</td>\n",
       "    </tr>\n",
       "  </tbody>\n",
       "</table>\n",
       "</div>"
      ],
      "text/plain": [
       "Algorithm                               LR       SVC       RFC       XGB\n",
       "Bioassay       Evaluation metric                                        \n",
       "AID1608red     Accuracy           0.572816  0.616505  0.723301  0.592233\n",
       "               Recall             0.307692  0.307692  0.461538  0.384615\n",
       "               F1                 0.083333  0.091954  0.173913  0.106383\n",
       "AID644red      Accuracy           0.536585  0.487805  0.560976  0.560976\n",
       "               Recall             0.307692  0.384615  0.153846  0.384615\n",
       "               F1                 0.296296  0.322581  0.181818  0.357143\n",
       "AID1284red     Accuracy           0.736111  0.583333  0.625000  0.611111\n",
       "               Recall             0.818182  0.545455  0.454545  0.909091\n",
       "               F1                 0.486486  0.285714  0.270270  0.416667\n",
       "AID439Morered  Accuracy           0.769231  0.692308  0.615385  0.615385\n",
       "               Recall             0.500000  1.000000  0.500000  1.000000\n",
       "               F1                 0.400000  0.500000  0.285714  0.444444\n",
       "AID721morered  Accuracy           0.444444  0.388889  0.277778  0.444444\n",
       "               Recall             0.750000  0.500000  0.000000  0.750000\n",
       "               F1                 0.375000  0.266667  0.000000  0.375000\n",
       "AID1608Morered Accuracy           0.669903  0.674757  0.742718  0.563107\n",
       "               Recall             0.461538  0.307692  0.230769  0.538462\n",
       "               F1                 0.150000  0.106667  0.101695  0.134615\n",
       "AID644Morered  Accuracy           0.609756  0.512195  0.853659  0.609756\n",
       "               Recall             0.538462  0.615385  0.769231  0.461538\n",
       "               F1                 0.466667  0.444444  0.769231  0.428571\n",
       "AID1284Morered Accuracy           0.583333  0.569444  0.652778  0.555556\n",
       "               Recall             0.727273  0.636364  0.818182  0.818182\n",
       "               F1                 0.347826  0.311111  0.418605  0.360000\n",
       "AID439red      Accuracy           0.923077  0.769231  0.769231  0.538462\n",
       "               Recall             1.000000  0.500000  0.500000  0.500000\n",
       "               F1                 0.800000  0.400000  0.400000  0.250000\n",
       "AID721red      Accuracy           0.555556  0.388889  0.444444  0.388889\n",
       "               Recall             0.500000  1.000000  0.250000  0.250000\n",
       "               F1                 0.333333  0.421053  0.166667  0.153846"
      ]
     },
     "execution_count": 38,
     "metadata": {},
     "output_type": "execute_result"
    }
   ],
   "source": [
    "DF_undersampled[Confirmatory].T"
   ]
  },
  {
   "cell_type": "code",
   "execution_count": 39,
   "metadata": {},
   "outputs": [
    {
     "data": {
      "text/plain": [
       "<matplotlib.axes._subplots.AxesSubplot at 0x1d182558e10>"
      ]
     },
     "execution_count": 39,
     "metadata": {},
     "output_type": "execute_result"
    },
    {
     "data": {
      "image/png": "[encoded data removed]",
      "text/plain": [
       "<Figure size 1152x504 with 1 Axes>"
      ]
     },
     "metadata": {},
     "output_type": "display_data"
    }
   ],
   "source": [
    "DF_undersampled[Confirmatory].drop('Accuracy', axis =1, level=1).T.unstack().plot(kind='bar', figsize = (16,7))"
   ]
  },
  {
   "cell_type": "markdown",
   "metadata": {},
   "source": [
    "The performance was improved in most of the cases, but not by a large margin."
   ]
  },
  {
   "cell_type": "markdown",
   "metadata": {},
   "source": [
    "### Hyperparameter XGBoost Tuning"
   ]
  },
  {
   "cell_type": "markdown",
   "metadata": {},
   "source": [
    "Hyperparameter optimization or tuning is the problem of choosing a set of optimal hyperparameters for a learning algorithm. Since tuning every classifier for every bioassay would require a lot of time and computational power, let's examine a single example."
   ]
  },
  {
   "cell_type": "markdown",
   "metadata": {},
   "source": [
    "#### Part 1: Untuned model parameters "
   ]
  },
  {
   "cell_type": "code",
   "execution_count": 40,
   "metadata": {},
   "outputs": [],
   "source": [
    "train = pd.read_csv('...AID1284Morered_train.csv')\n",
    "test = pd.read_csv('...AID1284Morered_test.csv')"
   ]
  },
  {
   "cell_type": "code",
   "execution_count": 41,
   "metadata": {},
   "outputs": [],
   "source": [
    "mapping = {'Inactive': 0, 'Active': 1}\n",
    "train['Outcome'] = train['Outcome'].map(mapping)\n",
    "test['Outcome'] = test['Outcome'].map(mapping)"
   ]
  },
  {
   "cell_type": "code",
   "execution_count": 42,
   "metadata": {},
   "outputs": [],
   "source": [
    "x = train.drop(\"Outcome\", axis=1)\n",
    "y = train['Outcome']"
   ]
  },
  {
   "cell_type": "code",
   "execution_count": 43,
   "metadata": {},
   "outputs": [],
   "source": [
    "x_train, x_test, y_train, y_test = train_test_split(x, y, test_size=0.3, random_state=42)"
   ]
  },
  {
   "cell_type": "code",
   "execution_count": 44,
   "metadata": {},
   "outputs": [
    {
     "data": {
      "text/plain": [
       "XGBClassifier(base_score=0.5, booster='gbtree', colsample_bylevel=1,\n",
       "       colsample_bytree=1, gamma=0, learning_rate=0.1, max_delta_step=0,\n",
       "       max_depth=3, min_child_weight=1, missing=None, n_estimators=100,\n",
       "       n_jobs=1, nthread=None, objective='binary:logistic', random_state=0,\n",
       "       reg_alpha=0, reg_lambda=1, scale_pos_weight=1, seed=None,\n",
       "       silent=True, subsample=1)"
      ]
     },
     "execution_count": 44,
     "metadata": {},
     "output_type": "execute_result"
    }
   ],
   "source": [
    "XGBClassifier()"
   ]
  },
  {
   "cell_type": "code",
   "execution_count": 45,
   "metadata": {},
   "outputs": [
    {
     "data": {
      "text/plain": [
       "0.8045977011494253"
      ]
     },
     "execution_count": 45,
     "metadata": {},
     "output_type": "execute_result"
    }
   ],
   "source": [
    "# Train set\n",
    "XGB = xgb.XGBClassifier()\n",
    "XGB.fit(x_train, y_train)\n",
    "predictions = XGB.predict(x_test)\n",
    "accuracy_score(y_test, predictions)"
   ]
  },
  {
   "cell_type": "code",
   "execution_count": 46,
   "metadata": {},
   "outputs": [
    {
     "data": {
      "text/plain": [
       "0.8472222222222222"
      ]
     },
     "execution_count": 46,
     "metadata": {},
     "output_type": "execute_result"
    }
   ],
   "source": [
    "# Test set\n",
    "X_t = test.drop(\"Outcome\", axis=1)\n",
    "y_result = XGB.predict(X_t)\n",
    "accuracy_score(test[\"Outcome\"], y_result)"
   ]
  },
  {
   "cell_type": "code",
   "execution_count": 47,
   "metadata": {},
   "outputs": [
    {
     "data": {
      "text/plain": [
       "array([[ 3,  8],\n",
       "       [ 3, 58]], dtype=int64)"
      ]
     },
     "execution_count": 47,
     "metadata": {},
     "output_type": "execute_result"
    }
   ],
   "source": [
    "# Confusion matrix\n",
    "XGB_confusion_matrix1 = confusion_matrix(test[\"Outcome\"], y_result, labels=[1, 0])\n",
    "XGB_confusion_matrix1"
   ]
  },
  {
   "cell_type": "markdown",
   "metadata": {},
   "source": [
    "Confusion matrix (from left to right):\n",
    "\n",
    "* True positive (TP): correct positive prediction\n",
    "* False negative (FN): incorrect negative prediction\n",
    "* False positive (FP): incorrect positive prediction\n",
    "* True negative (TN): correct negative prediction"
   ]
  },
  {
   "cell_type": "code",
   "execution_count": 48,
   "metadata": {},
   "outputs": [],
   "source": [
    "# Recall and F1 score\n",
    "XGB_recall1 = recall_score(test[\"Outcome\"], y_result, labels=[1, 0]) \n",
    "XGB_F11 = f1_score(test[\"Outcome\"], y_result, labels=[1, 0])"
   ]
  },
  {
   "cell_type": "code",
   "execution_count": 49,
   "metadata": {},
   "outputs": [
    {
     "name": "stdout",
     "output_type": "stream",
     "text": [
      "Recall score: 0.2727272727272727 \n",
      "F1 score: 0.3529411764705882\n"
     ]
    }
   ],
   "source": [
    "print('Recall score: ' + str(XGB_recall1), '\\nF1 score: ' + str(XGB_F11))"
   ]
  },
  {
   "cell_type": "markdown",
   "metadata": {},
   "source": [
    "#### Part 2: Tuning"
   ]
  },
  {
   "cell_type": "code",
   "execution_count": 50,
   "metadata": {},
   "outputs": [
    {
     "data": {
      "text/plain": [
       "0.8160919540229885"
      ]
     },
     "execution_count": 50,
     "metadata": {},
     "output_type": "execute_result"
    }
   ],
   "source": [
    "XGB1 = xgb.XGBClassifier(learning_rate =0.1, \n",
    "                         n_estimators=1000,\n",
    "                         max_depth=5, \n",
    "                         min_child_weight=1, \n",
    "                         gamma=0,\n",
    "                         subsample=0.8,\n",
    "                         colsample_bytree=0.8,\n",
    "                         objective= 'binary:logistic', \n",
    "                         nthread=4,scale_pos_weight=1,seed=27)\n",
    "XGB1.fit(x_train, y_train)\n",
    "predictions = XGB1.predict(x_test)\n",
    "accuracy_score(y_test, predictions)"
   ]
  },
  {
   "cell_type": "code",
   "execution_count": 51,
   "metadata": {},
   "outputs": [
    {
     "data": {
      "text/plain": [
       "0.8611111111111112"
      ]
     },
     "execution_count": 51,
     "metadata": {},
     "output_type": "execute_result"
    }
   ],
   "source": [
    "y_result = XGB1.predict(X_t)\n",
    "accuracy_score(test[\"Outcome\"], y_result)"
   ]
  },
  {
   "cell_type": "code",
   "execution_count": 52,
   "metadata": {},
   "outputs": [
    {
     "data": {
      "text/plain": [
       "({'max_depth': 3, 'min_child_weight': 1}, 0.5652100840336135)"
      ]
     },
     "execution_count": 52,
     "metadata": {},
     "output_type": "execute_result"
    }
   ],
   "source": [
    "# Step 1: Tune max_depth and min_child_weight\n",
    "param_test1 = {\n",
    "    'max_depth':range(3,10,2),\n",
    "    'min_child_weight':range(1,6,2)\n",
    "}\n",
    "gsearch1 = GridSearchCV(estimator = XGBClassifier( learning_rate =0.1, \n",
    "                                                  n_estimators=1000, \n",
    "                                                  max_depth=5,\n",
    "                                                  min_child_weight=1,\n",
    "                                                  gamma=0, \n",
    "                                                  subsample=0.8, \n",
    "                                                  colsample_bytree=0.8,\n",
    "                                                  objective= 'binary:logistic', nthread=4, scale_pos_weight=1, seed=27), \n",
    "                        param_grid = param_test1, \n",
    "                        scoring='roc_auc',\n",
    "                        n_jobs=4,\n",
    "                        iid=False, \n",
    "                        cv=5)\n",
    "\n",
    "gsearch1.fit(x_train, y_train)\n",
    "gsearch1.best_params_, gsearch1.best_score_"
   ]
  },
  {
   "cell_type": "markdown",
   "metadata": {},
   "source": [
    "The optimal parameter for max_depth is 3, while the optimal parameter for min_child_weight is 1."
   ]
  },
  {
   "cell_type": "code",
   "execution_count": 53,
   "metadata": {},
   "outputs": [
    {
     "data": {
      "text/plain": [
       "0.8045977011494253"
      ]
     },
     "execution_count": 53,
     "metadata": {},
     "output_type": "execute_result"
    }
   ],
   "source": [
    "# Fix new parameters with optimal parameters\n",
    "XGB2 = xgb.XGBClassifier(learning_rate =0.1, \n",
    "                         n_estimators=1000,\n",
    "                         max_depth=3, \n",
    "                         min_child_weight=1, \n",
    "                         gamma=0,\n",
    "                         subsample=0.8,\n",
    "                         colsample_bytree=0.8,\n",
    "                         objective= 'binary:logistic', \n",
    "                         nthread=4,\n",
    "                         scale_pos_weight=1,\n",
    "                         seed=27)\n",
    "XGB2.fit(x_train, y_train)\n",
    "predictions = XGB2.predict(x_test)\n",
    "accuracy_score(y_test, predictions)"
   ]
  },
  {
   "cell_type": "code",
   "execution_count": 54,
   "metadata": {},
   "outputs": [
    {
     "data": {
      "text/plain": [
       "0.8611111111111112"
      ]
     },
     "execution_count": 54,
     "metadata": {},
     "output_type": "execute_result"
    }
   ],
   "source": [
    "y_result = XGB2.predict(X_t)\n",
    "accuracy_score(test[\"Outcome\"], y_result)"
   ]
  },
  {
   "cell_type": "code",
   "execution_count": 55,
   "metadata": {},
   "outputs": [
    {
     "data": {
      "text/plain": [
       "({'gamma': 0.4}, 0.5844817927170868)"
      ]
     },
     "execution_count": 55,
     "metadata": {},
     "output_type": "execute_result"
    }
   ],
   "source": [
    "# Step 2: Tune gamma value using the parameters already tuned above.\n",
    "param_test2 = { \n",
    "    'gamma':[i/10.0 for i in range(0,5)] \n",
    "}\n",
    "gsearch2 = GridSearchCV(estimator = XGBClassifier( learning_rate =0.1, \n",
    "                                                  n_estimators=1000, \n",
    "                                                  max_depth = 3,\n",
    "                                                  min_child_weight = 1,\n",
    "                                                  gamma=0, subsample=0.8, colsample_bytree=0.8,\n",
    "                                                  objective= 'binary:logistic', nthread=4, scale_pos_weight=1,seed=27), \n",
    "                        param_grid = param_test2, \n",
    "                        scoring='roc_auc',\n",
    "                        n_jobs=4,\n",
    "                        iid=False, \n",
    "                        cv=5)\n",
    "\n",
    "gsearch2.fit(x_train, y_train)\n",
    "gsearch2.best_params_, gsearch2.best_score_"
   ]
  },
  {
   "cell_type": "code",
   "execution_count": 56,
   "metadata": {},
   "outputs": [
    {
     "data": {
      "text/plain": [
       "0.7931034482758621"
      ]
     },
     "execution_count": 56,
     "metadata": {},
     "output_type": "execute_result"
    }
   ],
   "source": [
    "# Fix new parameter with optimal parameter\n",
    "XGB3 = xgb.XGBClassifier(learning_rate =0.1, \n",
    "                         n_estimators=1000,\n",
    "                         max_depth=3, \n",
    "                         min_child_weight=1, \n",
    "                         gamma=0.4,\n",
    "                         subsample=0.8,\n",
    "                         colsample_bytree=0.8,\n",
    "                         objective= 'binary:logistic', \n",
    "                         nthread=4,\n",
    "                         scale_pos_weight=1,\n",
    "                         seed=27)\n",
    "XGB3.fit(x_train, y_train)\n",
    "predictions = XGB3.predict(x_test)\n",
    "accuracy_score(y_test, predictions)"
   ]
  },
  {
   "cell_type": "code",
   "execution_count": 57,
   "metadata": {},
   "outputs": [
    {
     "data": {
      "text/plain": [
       "0.8472222222222222"
      ]
     },
     "execution_count": 57,
     "metadata": {},
     "output_type": "execute_result"
    }
   ],
   "source": [
    "y_result = XGB3.predict(X_t)\n",
    "accuracy_score(test[\"Outcome\"], y_result)"
   ]
  },
  {
   "cell_type": "code",
   "execution_count": 58,
   "metadata": {},
   "outputs": [
    {
     "data": {
      "text/plain": [
       "({'colsample_bytree': 0.6, 'subsample': 0.9}, 0.6212885154061625)"
      ]
     },
     "execution_count": 58,
     "metadata": {},
     "output_type": "execute_result"
    }
   ],
   "source": [
    "#Step 3: Tune subsample and colsample_bytree\n",
    "param_test3 = {\n",
    "    'subsample':[i/10.0 for i in range(6,10)],\n",
    "    'colsample_bytree':[i/10.0 for i in range(6,10)]\n",
    "}\n",
    "gsearch3 = GridSearchCV(estimator = XGBClassifier(learning_rate =0.1, n_estimators=1000, \n",
    "                                                  max_depth = 3,\n",
    "                                                  min_child_weight = 1,\n",
    "                                                  gamma=0.4, \n",
    "                                                  subsample=0.8, colsample_bytree=0.8,\n",
    "                                                  objective= 'binary:logistic', nthread=4, scale_pos_weight=1,seed=27), \n",
    "                        param_grid = param_test3, \n",
    "                        scoring='roc_auc',\n",
    "                        n_jobs=4,\n",
    "                        iid=False, \n",
    "                        cv=5)\n",
    "\n",
    "gsearch3.fit(x_train, y_train)\n",
    "gsearch3.best_params_, gsearch3.best_score_"
   ]
  },
  {
   "cell_type": "code",
   "execution_count": 59,
   "metadata": {},
   "outputs": [
    {
     "data": {
      "text/plain": [
       "0.7931034482758621"
      ]
     },
     "execution_count": 59,
     "metadata": {},
     "output_type": "execute_result"
    }
   ],
   "source": [
    "XGB4 = xgb.XGBClassifier(learning_rate =0.1, \n",
    "                         n_estimators=1000,\n",
    "                         max_depth=3, \n",
    "                         min_child_weight=1, \n",
    "                         gamma=0.4,\n",
    "                         subsample=0.9,\n",
    "                         colsample_bytree=0.6,\n",
    "                         objective= 'binary:logistic', \n",
    "                         nthread=4,\n",
    "                         scale_pos_weight=1,\n",
    "                         seed=27)\n",
    "XGB4.fit(x_train, y_train)\n",
    "predictions = XGB4.predict(x_test)\n",
    "accuracy_score(y_test, predictions)"
   ]
  },
  {
   "cell_type": "code",
   "execution_count": 60,
   "metadata": {},
   "outputs": [
    {
     "data": {
      "text/plain": [
       "0.8472222222222222"
      ]
     },
     "execution_count": 60,
     "metadata": {},
     "output_type": "execute_result"
    }
   ],
   "source": [
    "y_result = XGB4.predict(X_t)\n",
    "accuracy_score(test[\"Outcome\"], y_result)"
   ]
  },
  {
   "cell_type": "code",
   "execution_count": 61,
   "metadata": {},
   "outputs": [
    {
     "data": {
      "text/plain": [
       "({'colsample_bytree': 0.9, 'subsample': 0.55}, 0.5757703081232493)"
      ]
     },
     "execution_count": 61,
     "metadata": {},
     "output_type": "execute_result"
    }
   ],
   "source": [
    "# Refining the research\n",
    "param_test4 = {\n",
    " 'subsample':[i/100.0 for i in range(55,70,5)],\n",
    " 'colsample_bytree':[i/100.0 for i in range(85,100,5)]\n",
    "}\n",
    "gsearch4 = GridSearchCV(estimator = XGBClassifier(learning_rate =0.1, \n",
    "                                                  n_estimators=1000, \n",
    "                                                  max_depth = 3,\n",
    "                                                  min_child_weight = 5,\n",
    "                                                  gamma=0.2, \n",
    "                                                  subsample=0.9, \n",
    "                                                  colsample_bytree=0.6,\n",
    "                                                  objective= 'binary:logistic', nthread=4, scale_pos_weight=1,seed=27), \n",
    "                        param_grid = param_test4, \n",
    "                        scoring='roc_auc',\n",
    "                        n_jobs=4,\n",
    "                        iid=False, \n",
    "                        cv=5)\n",
    "\n",
    "gsearch4.fit(x_train, y_train)\n",
    "gsearch4.best_params_, gsearch4.best_score_"
   ]
  },
  {
   "cell_type": "code",
   "execution_count": 62,
   "metadata": {},
   "outputs": [
    {
     "data": {
      "text/plain": [
       "0.8045977011494253"
      ]
     },
     "execution_count": 62,
     "metadata": {},
     "output_type": "execute_result"
    }
   ],
   "source": [
    "# Fix new param with optimal parameter\n",
    "XGB5 = xgb.XGBClassifier(learning_rate =0.1, \n",
    "                         n_estimators=1000,\n",
    "                         max_depth=3, \n",
    "                         min_child_weight=1, \n",
    "                         gamma=0.4,\n",
    "                         subsample=0.55,\n",
    "                         colsample_bytree=0.9,\n",
    "                         objective= 'binary:logistic', \n",
    "                         nthread=4,\n",
    "                         scale_pos_weight=1,\n",
    "                         seed=27)\n",
    "XGB5.fit(x_train, y_train)\n",
    "predictions = XGB5.predict(x_test)\n",
    "accuracy_score(y_test, predictions)"
   ]
  },
  {
   "cell_type": "code",
   "execution_count": 63,
   "metadata": {},
   "outputs": [
    {
     "data": {
      "text/plain": [
       "0.875"
      ]
     },
     "execution_count": 63,
     "metadata": {},
     "output_type": "execute_result"
    }
   ],
   "source": [
    "y_result = XGB5.predict(X_t)\n",
    "accuracy_score(test[\"Outcome\"], y_result)"
   ]
  },
  {
   "cell_type": "code",
   "execution_count": 64,
   "metadata": {},
   "outputs": [
    {
     "data": {
      "text/plain": [
       "({'learning_rate': 0.019}, 0.5797759103641457)"
      ]
     },
     "execution_count": 64,
     "metadata": {},
     "output_type": "execute_result"
    }
   ],
   "source": [
    "#Step 3: tuning learning_rate\n",
    "param_test5 = {\n",
    " 'learning_rate':[i/1000.0 for i in range(5,20,2)]\n",
    "}\n",
    "gsearch5 = GridSearchCV(estimator = XGBClassifier(learning_rate =0.1, \n",
    "                                                  n_estimators=1000, \n",
    "                                                  gamma=0.4,\n",
    "                                                  subsample=0.55,\n",
    "                                                  colsample_bytree=0.85,\n",
    "                                                  max_depth = 3,\n",
    "                                                  min_child_weight = 5,\n",
    "                                                  objective= 'binary:logistic', nthread=4, scale_pos_weight=1,seed=27), \n",
    "                        param_grid = param_test5, \n",
    "                        scoring='roc_auc',\n",
    "                        n_jobs=4,\n",
    "                        iid=False, \n",
    "                        cv=5)\n",
    "\n",
    "gsearch5.fit(x_train, y_train)\n",
    "gsearch5.best_params_, gsearch5.best_score_"
   ]
  },
  {
   "cell_type": "code",
   "execution_count": 65,
   "metadata": {},
   "outputs": [
    {
     "data": {
      "text/plain": [
       "0.8045977011494253"
      ]
     },
     "execution_count": 65,
     "metadata": {},
     "output_type": "execute_result"
    }
   ],
   "source": [
    "# Final model\n",
    "XGB6 = xgb.XGBClassifier(learning_rate =0.019, \n",
    "                         n_estimators=1000,\n",
    "                         max_depth=3, \n",
    "                         min_child_weight=1, \n",
    "                         gamma=0.4,\n",
    "                         subsample=0.55,\n",
    "                         colsample_bytree=0.9,\n",
    "                         objective= 'binary:logistic', \n",
    "                         nthread=4,\n",
    "                         scale_pos_weight=1,\n",
    "                         seed=27)\n",
    "XGB6.fit(x_train, y_train)\n",
    "predictions = XGB6.predict(x_test)\n",
    "accuracy_score(y_test, predictions)"
   ]
  },
  {
   "cell_type": "code",
   "execution_count": 66,
   "metadata": {},
   "outputs": [
    {
     "data": {
      "text/plain": [
       "0.8611111111111112"
      ]
     },
     "execution_count": 66,
     "metadata": {},
     "output_type": "execute_result"
    }
   ],
   "source": [
    "y_result = XGB6.predict(X_t)\n",
    "accuracy_score(test[\"Outcome\"], y_result)"
   ]
  },
  {
   "cell_type": "markdown",
   "metadata": {},
   "source": [
    "Scores:"
   ]
  },
  {
   "cell_type": "code",
   "execution_count": 67,
   "metadata": {},
   "outputs": [],
   "source": [
    "XGB_recall2 = recall_score(test[\"Outcome\"], y_result, labels=[1, 0])\n",
    "XGB_F12 = f1_score(test[\"Outcome\"], y_result, labels=[1, 0])"
   ]
  },
  {
   "cell_type": "code",
   "execution_count": 68,
   "metadata": {},
   "outputs": [
    {
     "name": "stdout",
     "output_type": "stream",
     "text": [
      "Old recall score: 0.2727272727272727 \n",
      "New recall score: 0.36363636363636365\n"
     ]
    }
   ],
   "source": [
    "print('Old recall score: ' + str(XGB_recall1), '\\nNew recall score: ' + str(XGB_recall2))"
   ]
  },
  {
   "cell_type": "code",
   "execution_count": 69,
   "metadata": {},
   "outputs": [
    {
     "name": "stdout",
     "output_type": "stream",
     "text": [
      "Old F1 score: 0.3529411764705882 \n",
      "New F1 score: 0.4444444444444444\n"
     ]
    }
   ],
   "source": [
    "print('Old F1 score: ' + str(XGB_F11), '\\nNew F1 score: ' + str(XGB_F12))"
   ]
  },
  {
   "cell_type": "markdown",
   "metadata": {},
   "source": [
    "Both the recall and F1 score improved."
   ]
  },
  {
   "cell_type": "code",
   "execution_count": 70,
   "metadata": {},
   "outputs": [],
   "source": [
    "# Confusion matrix\n",
    "XGB_confusion_matrix2 = confusion_matrix(test[\"Outcome\"], y_result, labels=[1, 0])"
   ]
  },
  {
   "cell_type": "code",
   "execution_count": 71,
   "metadata": {},
   "outputs": [
    {
     "data": {
      "text/plain": [
       "array([[ 3,  8],\n",
       "       [ 3, 58]], dtype=int64)"
      ]
     },
     "execution_count": 71,
     "metadata": {},
     "output_type": "execute_result"
    }
   ],
   "source": [
    "# Old\n",
    "XGB_confusion_matrix1"
   ]
  },
  {
   "cell_type": "code",
   "execution_count": 72,
   "metadata": {},
   "outputs": [
    {
     "data": {
      "text/plain": [
       "array([[ 4,  7],\n",
       "       [ 3, 58]], dtype=int64)"
      ]
     },
     "execution_count": 72,
     "metadata": {},
     "output_type": "execute_result"
    }
   ],
   "source": [
    "# New\n",
    "XGB_confusion_matrix2"
   ]
  },
  {
   "cell_type": "markdown",
   "metadata": {},
   "source": [
    "By tuning, we managed to gain one true positive."
   ]
  },
  {
   "cell_type": "markdown",
   "metadata": {},
   "source": [
    "Unfortunately, pharmaceutical data is hard to obtain and this particular one is of poor quality. The bad results from primary screening leads to the issue of whether this type of data should be used for virtual screening."
   ]
  }
 ],
 "metadata": {
  "kernelspec": {
   "display_name": "Python 3",
   "language": "python",
   "name": "python3"
  },
  "language_info": {
   "codemirror_mode": {
    "name": "ipython",
    "version": 3
   },
   "file_extension": ".py",
   "mimetype": "text/x-python",
   "name": "python",
   "nbconvert_exporter": "python",
   "pygments_lexer": "ipython3",
   "version": "3.6.5"
  }
 },
 "nbformat": 4,
 "nbformat_minor": 2
}
